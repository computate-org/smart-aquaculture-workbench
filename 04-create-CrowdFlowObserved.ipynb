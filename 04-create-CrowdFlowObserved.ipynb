{
 "cells": [
  {
   "cell_type": "markdown",
   "id": "015e50f7",
   "metadata": {},
   "source": [
    "# Computate Smart Website Builder\n",
    "\n",
    "## About the open source GPL3 license and copyright for this product\n",
    "\n",
    "Copyright © 2024 Computate Limited Liability Company in Utah, USA\n",
    "\n",
    "This program is free software: you can redistribute it and/or modify\n",
    "it under the terms of the GNU General Public License as published by\n",
    "the Free Software Foundation, either version 3 of the License, or\n",
    "(at your option) any later version.\n",
    "\n",
    "This program is distributed in the hope that it will be useful,\n",
    "but WITHOUT ANY WARRANTY; without even the implied warranty of\n",
    "MERCHANTABILITY or FITNESS FOR A PARTICULAR PURPOSE.  See the\n",
    "GNU General Public License for more details.\n",
    "\n",
    "You should have received a copy of the GNU General Public License\n",
    "along with this program.  If not, see <https://www.gnu.org/licenses/>.\n",
    "\n",
    "ADDITIONAL TERMS\n",
    "\n",
    "As stated in section 7. c) and e) of the GPL3 license, \n",
    "\"you may supplement the terms of this License with terms,\" \n",
    "Computate has added the following additional terms to the license: \n",
    "\n",
    "  7 c) Prohibiting misrepresentation of the origin of that material, and\n",
    "    requiring that modified versions of such material be marked in\n",
    "    reasonable ways as different from the original version;\n",
    "\n",
    "  7 e) Declining to grant rights under trademark law for use of some\n",
    "    trade names, trademarks, or service marks;\n",
    "\n",
    "Please do not redistribute this course until you have built your own platform with these tools, \n",
    "separate from the computate.org platform, and reconfigure your fork of this repo to deploy \n",
    "your own platform instead of the computate.org platform. \n",
    "\n",
    "QUESTIONS\n",
    "\n",
    "For questions about this open source license, please contact our public mailing list at computate@group.computate.org\n"
   ]
  },
  {
   "cell_type": "markdown",
   "id": "20f6539f",
   "metadata": {},
   "source": [
    "# Create a new Java database and search model class"
   ]
  },
  {
   "cell_type": "markdown",
   "id": "2a80b6c3",
   "metadata": {},
   "source": [
    "Specify the details of your new Java class below. "
   ]
  },
  {
   "cell_type": "code",
   "execution_count": null,
   "id": "a9183b78",
   "metadata": {
    "vscode": {
     "languageId": "shellscript"
    }
   },
   "outputs": [],
   "source": [
    "eval $(./vars.py)\n",
    "CLASS_PACKAGE=$SITE_JAVA_PACKAGE.model.fiware.crowdflowobserved\n",
    "CLASS_SIMPLE_NAME=CrowdFlowObserved\n",
    "CLASS_A_NAME=\"a crowd flow observation\"\n",
    "CLASS_DESCRIPTION=\"An observation related to the movement of people at a certain place and time.\"\n",
    "CLASS_ORDER=1\n",
    "CLASS_ICON='<i class=\"fa-duotone fa-regular fa-users-viewfinder\"></i>'\n",
    "SMART_DATA_MODEL_SEARCH='Smart Cities Transportation CrowdFlowObserved'\n",
    "echo DONE"
   ]
  },
  {
   "cell_type": "code",
   "execution_count": null,
   "id": "c908599c",
   "metadata": {
    "vscode": {
     "languageId": "shellscript"
    }
   },
   "outputs": [],
   "source": [
    "CLASS_CANONICAL_NAME=\"${CLASS_CANONICAL_NAME:-$(echo $CLASS_PACKAGE.$CLASS_SIMPLE_NAME)}\"\n",
    "PACKAGE_PATH=\"${PACKAGE_PATH:-$SITE_SRC$SUFFIX_SRC_MAIN_JAVA/$(echo $CLASS_PACKAGE | perl -p -e 's/\\./\\//g')}\"\n",
    "CLASS_PATH=\"${CLASS_PATH:-$PACKAGE_PATH/$CLASS_SIMPLE_NAME.java}\"\n",
    "CLASS_A_NAME=\"${CLASS_A_NAME:-a $(echo $CLASS_SIMPLE_NAME | perl -p -e 's/([A-Z])/ $1/g' | sed -z 's/^[[:space:]]*//' | tr '[:upper:]' '[:lower:]')}\"\n",
    "CLASS_SINGULAR_NAME=\"${CLASS_SINGULAR_NAME:-$(echo $CLASS_A_NAME | perl -p -e 's/(^\\w+ )//g')}\"\n",
    "CLASS_PLURAL_NAME=\"${CLASS_PLURAL_NAME:-$(echo ${CLASS_SINGULAR_NAME}s)}\"\n",
    "CLASS_API_TAG=\"${CLASS_API_TAG:-$CLASS_SINGULAR_NAME}\"\n",
    "CLASS_API_URI=\"${CLASS_API_URI:-/api/$(echo $CLASS_SINGULAR_NAME | perl -p -e 's/ /-/g' | tr '[:upper:]' '[:lower:]')}\"\n",
    "CLASS_PAGE_URI=\"${CLASS_PAGE_URI:-/$(echo $CLASS_SINGULAR_NAME | perl -p -e 's/ /-/g' | tr '[:upper:]' '[:lower:]')}\"\n",
    "CLASS_SQL_ORDER=\"${CLASS_SQL_ORDER:-$CLASS_ORDER}\"\n",
    "CLASS_ICON=\"${CLASS_ICON:-}\"\n",
    "\n",
    "\n",
    "echo \"New class canonical name: $CLASS_CANONICAL_NAME\"\n",
    "echo \"New package directory:    $PACKAGE_PATH\"\n",
    "echo \"New class path:           $CLASS_PATH\"\n",
    "echo \"Class a name:             $CLASS_A_NAME\"\n",
    "echo \"Class singular name:      $CLASS_SINGULAR_NAME\"\n",
    "echo \"Class plural name:        $CLASS_PLURAL_NAME\"\n",
    "echo \"Class API tag:            $CLASS_API_TAG\"\n",
    "echo \"Class API URI:            $CLASS_API_URI\"\n",
    "echo \"Class page URI:           $CLASS_PAGE_URI\"\n",
    "echo \"Class order:              $CLASS_ORDER\"\n",
    "echo \"Class SQL order:          $CLASS_SQL_ORDER\"\n",
    "echo \"Class description:        $CLASS_DESCRIPTION\"\n",
    "echo \"CLASS_ICON:               $CLASS_ICON\"\n",
    "echo DONE"
   ]
  },
  {
   "cell_type": "markdown",
   "id": "c060d539",
   "metadata": {},
   "source": [
    "## Make the Java class package directory"
   ]
  },
  {
   "cell_type": "code",
   "execution_count": null,
   "id": "ba11f4b5",
   "metadata": {
    "vscode": {
     "languageId": "shellscript"
    }
   },
   "outputs": [],
   "source": [
    "mkdir -p $PACKAGE_PATH\n",
    "ls -ld $PACKAGE_PATH\n",
    "echo DONE"
   ]
  },
  {
   "cell_type": "markdown",
   "id": "6dad415e",
   "metadata": {},
   "source": [
    "## Make the Java class file"
   ]
  },
  {
   "cell_type": "code",
   "execution_count": null,
   "id": "9de1610f",
   "metadata": {
    "vscode": {
     "languageId": "shellscript"
    }
   },
   "outputs": [],
   "source": [
    "echo \"Updating $CLASS_PATH\"\n",
    "cat > $CLASS_PATH <<EOF\n",
    "package $CLASS_PACKAGE;\n",
    "\n",
    "import $SITE_BASE_MODEL_PACKAGE.BaseModel;\n",
    "import org.computate.search.wrap.Wrap;\n",
    "import io.vertx.pgclient.data.Point;\n",
    "\n",
    "/**\n",
    " * SmartDataModel: $SMART_DATA_MODEL_SEARCH\n",
    " * Icon: $CLASS_ICON\n",
    " * Description: $CLASS_DESCRIPTION\n",
    " * Order: $CLASS_ORDER\n",
    " * AName: $CLASS_A_NAME\n",
    " */\n",
    "public class $CLASS_SIMPLE_NAME extends ${CLASS_SIMPLE_NAME}Gen<BaseModel> {\n",
    "}\n",
    "EOF\n",
    "echo DONE"
   ]
  },
  {
   "cell_type": "markdown",
   "id": "cae65ed7",
   "metadata": {},
   "source": [
    "## Rebuild the project OpenAPI spec, database scripts, and more\n",
    "\n",
    "A running web application is made up of much more than Java code. \n",
    "\n",
    "- A data-driven website is also made up of CSS Stylesheets and Java Script. Each model has it's own set of specific JavaScript specific to it's fields and APIs. \n",
    "\n",
    "- An OpenAPI Spec is generated to map out all the APIs and pages in the site for system integrators to consume or update data in the site. \n",
    "\n",
    "- A database schema is also generated for storing all model data with specific field values, tables, and foreign key relations. \n",
    "\n",
    "Run the command below to generate all of the code listed above. "
   ]
  },
  {
   "cell_type": "markdown",
   "id": "363fde08",
   "metadata": {},
   "source": [
    "Run the `index.sh` shell script of the `computate` project on  the  `smartvillage-platform` project to index all of the `smartvillage-platform` Java classes into the Apache Solr search engine. "
   ]
  },
  {
   "cell_type": "code",
   "execution_count": null,
   "id": "b79a55f3",
   "metadata": {
    "vscode": {
     "languageId": "shellscript"
    }
   },
   "outputs": [],
   "source": [
    "eval $(./vars.py)\n",
    "(cd $SITE_SRC && env \\\n",
    "  RUN_ARTICLE_GENERATOR=true \\\n",
    "  RUN_FIWARE_GENERATOR=true \\\n",
    "  RUN_OPENAPI3_GENERATOR=true \\\n",
    "  RUN_PROJECT_GENERATOR=true \\\n",
    "  RUN_SQL_GENERATOR=true \\\n",
    "  VARS_PATH=$VARS_PATH \\\n",
    "  mvn exec:java -Dexec.mainClass=$SITE_MAIN_VERTICLE_PACKAGE.MainVerticle)\n",
    "echo DONE"
   ]
  },
  {
   "cell_type": "markdown",
   "id": "28ddcee1",
   "metadata": {},
   "source": [
    "### Update your project MainVerticle.java Vert.x Verticle"
   ]
  },
  {
   "cell_type": "code",
   "execution_count": null,
   "id": "501f7050",
   "metadata": {
    "vscode": {
     "languageId": "shellscript"
    }
   },
   "outputs": [],
   "source": [
    "eval $(./vars.py)\n",
    "(ansible-playbook -e @$VARS_PATH playbooks/create-file.yaml \\\n",
    "  -e FILE_PATH=\"{{ SITE_SRC }}/src/main/java/{{ SITE_MAIN_VERTICLE_PACKAGE | replace('.', '/') }}/MainVerticle.java\" \\\n",
    "  -e FILE_TEMPLATE=MainVerticle.java)\n",
    "echo DONE"
   ]
  },
  {
   "cell_type": "markdown",
   "id": "528cf7df",
   "metadata": {},
   "source": [
    "### Create your project WorkerVerticle.java Vert.x Verticle"
   ]
  },
  {
   "cell_type": "code",
   "execution_count": null,
   "id": "90d9e79f",
   "metadata": {
    "vscode": {
     "languageId": "shellscript"
    }
   },
   "outputs": [],
   "source": [
    "eval $(./vars.py)\n",
    "(ansible-playbook -e @$VARS_PATH playbooks/create-file.yaml \\\n",
    "  -e FILE_PATH=\"{{ SITE_SRC }}/src/main/java/{{ SITE_MAIN_VERTICLE_PACKAGE | replace('.', '/') }}/WorkerVerticle.java\" \\\n",
    "  -e FILE_TEMPLATE=WorkerVerticle.java)\n",
    "echo DONE"
   ]
  },
  {
   "cell_type": "markdown",
   "id": "871ef38a",
   "metadata": {},
   "source": [
    "### Create your project PageLayout.htm Jinja2 HTML template"
   ]
  },
  {
   "cell_type": "code",
   "execution_count": null,
   "id": "7d9976a7",
   "metadata": {
    "vscode": {
     "languageId": "shellscript"
    }
   },
   "outputs": [],
   "source": [
    "eval $(./vars.py)\n",
    "(ansible-playbook -e @$VARS_PATH playbooks/create-file.yaml \\\n",
    "  -e FILE_PATH=\"{{ SITE_SRC }}/src/main/resources/templates/en-us/PageLayout.htm\" \\\n",
    "  -e FILE_TEMPLATE=PageLayout.htm)\n",
    "echo DONE"
   ]
  },
  {
   "cell_type": "markdown",
   "id": "5649419d",
   "metadata": {},
   "source": [
    "## Compile your Java project"
   ]
  },
  {
   "cell_type": "code",
   "execution_count": null,
   "id": "708966fd",
   "metadata": {
    "vscode": {
     "languageId": "shellscript"
    }
   },
   "outputs": [],
   "source": [
    "eval $(./vars.py)\n",
    "(cd $SITE_SRC && mvn clean install)\n",
    "echo DONE"
   ]
  },
  {
   "cell_type": "code",
   "execution_count": null,
   "id": "787e53a0",
   "metadata": {
    "vscode": {
     "languageId": "shellscript"
    }
   },
   "outputs": [],
   "source": []
  },
  {
   "cell_type": "markdown",
   "id": "d3c4ba5b",
   "metadata": {},
   "source": []
  }
 ],
 "metadata": {
  "kernelspec": {
   "display_name": "Bash",
   "language": "bash",
   "name": "bash"
  },
  "language_info": {
   "codemirror_mode": "shell",
   "file_extension": ".sh",
   "mimetype": "text/x-sh",
   "name": "bash"
  }
 },
 "nbformat": 4,
 "nbformat_minor": 5
}
