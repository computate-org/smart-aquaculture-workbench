{
 "cells": [
  {
   "cell_type": "markdown",
   "id": "015e50f7",
   "metadata": {},
   "source": [
    "# Computate Smart Cloud Builder\n",
    "\n",
    "## About the open source GPL3 license and copyright for this product\n",
    "\n",
    "Copyright © 2024 Computate Limited Liability Company in Utah, USA\n",
    "\n",
    "This program is free software: you can redistribute it and/or modify\n",
    "it under the terms of the GNU General Public License as published by\n",
    "the Free Software Foundation, either version 3 of the License, or\n",
    "(at your option) any later version.\n",
    "\n",
    "This program is distributed in the hope that it will be useful,\n",
    "but WITHOUT ANY WARRANTY; without even the implied warranty of\n",
    "MERCHANTABILITY or FITNESS FOR A PARTICULAR PURPOSE.  See the\n",
    "GNU General Public License for more details.\n",
    "\n",
    "You should have received a copy of the GNU General Public License\n",
    "along with this program.  If not, see <https://www.gnu.org/licenses/>.\n",
    "\n",
    "ADDITIONAL TERMS\n",
    "\n",
    "As stated in section 7. c) and e) of the GPL3 license, \n",
    "\"you may supplement the terms of this License with terms,\" \n",
    "Computate has added the following additional terms to the license: \n",
    "\n",
    "  7 c) Prohibiting misrepresentation of the origin of that material, and\n",
    "    requiring that modified versions of such material be marked in\n",
    "    reasonable ways as different from the original version;\n",
    "\n",
    "  7 e) Declining to grant rights under trademark law for use of some\n",
    "    trade names, trademarks, or service marks;\n",
    "\n",
    "Please do not redistribute this course until you have built your own platform with these tools, \n",
    "separate from the computate.org platform, and reconfigure your fork of this repo to deploy \n",
    "your own platform instead of the computate.org platform. \n",
    "\n",
    "QUESTIONS\n",
    "\n",
    "For questions about this open source license, please contact our public mailing list at computate@group.computate.org\n"
   ]
  },
  {
   "cell_type": "markdown",
   "id": "20f6539f",
   "metadata": {},
   "source": [
    "# Create a new Java database and search model class"
   ]
  },
  {
   "cell_type": "markdown",
   "id": "2a80b6c3",
   "metadata": {},
   "source": [
    "Specify the details of your new Java class below. "
   ]
  },
  {
   "cell_type": "code",
   "execution_count": 6,
   "id": "a9183b78",
   "metadata": {
    "vscode": {
     "languageId": "shellscript"
    }
   },
   "outputs": [
    {
     "name": "stdout",
     "output_type": "stream",
     "text": [
      "DONE\n"
     ]
    }
   ],
   "source": [
    "eval $(cd ../../ && ./vars.py)\n",
    "CLASS_PACKAGE=$SITE_JAVA_PACKAGE.model.fiware.crowdflowobserved\n",
    "CLASS_SIMPLE_NAME=CrowdFlowObserved\n",
    "CLASS_A_NAME=\"a crowd flow observation\"\n",
    "CLASS_DESCRIPTION=\"An observation related to the movement of people at a certain place and time.\"\n",
    "CLASS_ORDER=1\n",
    "CLASS_ICON='<i class=\"fa-solid fa-users-viewfinder\"></i>'\n",
    "SMART_DATA_MODEL_SEARCH='Smart Cities Transportation CrowdFlowObserved'\n",
    "echo DONE"
   ]
  },
  {
   "cell_type": "code",
   "execution_count": 2,
   "id": "c908599c",
   "metadata": {
    "vscode": {
     "languageId": "shellscript"
    }
   },
   "outputs": [
    {
     "name": "stdout",
     "output_type": "stream",
     "text": [
      "New class canonical name: org.computate.smartaquaculture.model.fiware.crowdflowobserved.CrowdFlowObserved\n",
      "New package directory:    /home/ctate/.local/src/smart-aquaculture/src/main/java/org/computate/smartaquaculture/model/fiware/crowdflowobserved\n",
      "New class path:           /home/ctate/.local/src/smart-aquaculture/src/main/java/org/computate/smartaquaculture/model/fiware/crowdflowobserved/CrowdFlowObserved.java\n",
      "Class a name:             a crowd flow observation\n",
      "Class singular name:      crowd flow observation\n",
      "Class plural name:        crowd flow observations\n",
      "Class API tag:            crowd flow observation\n",
      "Class API URI:            /api/crowd-flow-observation\n",
      "Class page URI:           /crowd-flow-observation\n",
      "Class order:              1\n",
      "Class SQL order:          1\n",
      "Class description:        An observation related to the movement of people at a certain place and time.\n",
      "CLASS_ICON:               <i class=\"fa-solid fa-users-viewfinder\"></i>\n",
      "DONE\n"
     ]
    }
   ],
   "source": [
    "CLASS_CANONICAL_NAME=\"${CLASS_CANONICAL_NAME:-$(echo $CLASS_PACKAGE.$CLASS_SIMPLE_NAME)}\"\n",
    "PACKAGE_PATH=\"${PACKAGE_PATH:-$SITE_SRC$SUFFIX_SRC_MAIN_JAVA/$(echo $CLASS_PACKAGE | perl -p -e 's/\\./\\//g')}\"\n",
    "CLASS_PATH=\"${CLASS_PATH:-$PACKAGE_PATH/$CLASS_SIMPLE_NAME.java}\"\n",
    "CLASS_A_NAME=\"${CLASS_A_NAME:-a $(echo $CLASS_SIMPLE_NAME | perl -p -e 's/([A-Z])/ $1/g' | sed -z 's/^[[:space:]]*//' | tr '[:upper:]' '[:lower:]')}\"\n",
    "CLASS_SINGULAR_NAME=\"${CLASS_SINGULAR_NAME:-$(echo $CLASS_A_NAME | perl -p -e 's/(^\\w+ )//g')}\"\n",
    "CLASS_PLURAL_NAME=\"${CLASS_PLURAL_NAME:-$(echo ${CLASS_SINGULAR_NAME}s)}\"\n",
    "CLASS_API_TAG=\"${CLASS_API_TAG:-$CLASS_SINGULAR_NAME}\"\n",
    "CLASS_API_URI=\"${CLASS_API_URI:-/api/$(echo $CLASS_SINGULAR_NAME | perl -p -e 's/ /-/g' | tr '[:upper:]' '[:lower:]')}\"\n",
    "CLASS_PAGE_URI=\"${CLASS_PAGE_URI:-/$(echo $CLASS_SINGULAR_NAME | perl -p -e 's/ /-/g' | tr '[:upper:]' '[:lower:]')}\"\n",
    "CLASS_SQL_ORDER=\"${CLASS_SQL_ORDER:-$CLASS_ORDER}\"\n",
    "CLASS_ICON=\"${CLASS_ICON:-}\"\n",
    "\n",
    "\n",
    "echo \"New class canonical name: $CLASS_CANONICAL_NAME\"\n",
    "echo \"New package directory:    $PACKAGE_PATH\"\n",
    "echo \"New class path:           $CLASS_PATH\"\n",
    "echo \"Class a name:             $CLASS_A_NAME\"\n",
    "echo \"Class singular name:      $CLASS_SINGULAR_NAME\"\n",
    "echo \"Class plural name:        $CLASS_PLURAL_NAME\"\n",
    "echo \"Class API tag:            $CLASS_API_TAG\"\n",
    "echo \"Class API URI:            $CLASS_API_URI\"\n",
    "echo \"Class page URI:           $CLASS_PAGE_URI\"\n",
    "echo \"Class order:              $CLASS_ORDER\"\n",
    "echo \"Class SQL order:          $CLASS_SQL_ORDER\"\n",
    "echo \"Class description:        $CLASS_DESCRIPTION\"\n",
    "echo \"CLASS_ICON:               $CLASS_ICON\"\n",
    "echo DONE"
   ]
  },
  {
   "cell_type": "markdown",
   "id": "c060d539",
   "metadata": {},
   "source": [
    "## Make the Java class package directory"
   ]
  },
  {
   "cell_type": "code",
   "execution_count": 3,
   "id": "ba11f4b5",
   "metadata": {
    "vscode": {
     "languageId": "shellscript"
    }
   },
   "outputs": [
    {
     "name": "stdout",
     "output_type": "stream",
     "text": [
      "drwxr-xr-x. 2 ctate ctate 6 Oct 25 08:48 /home/ctate/.local/src/smart-aquaculture/src/main/java/org/computate/smartaquaculture/model/fiware/crowdflowobserved\n",
      "DONE\n"
     ]
    }
   ],
   "source": [
    "mkdir -p $PACKAGE_PATH\n",
    "ls -ld $PACKAGE_PATH\n",
    "echo DONE"
   ]
  },
  {
   "cell_type": "markdown",
   "id": "13aac8cc",
   "metadata": {},
   "source": [
    "## Make the Java class file"
   ]
  },
  {
   "cell_type": "code",
   "execution_count": 4,
   "id": "63d1edc5",
   "metadata": {
    "vscode": {
     "languageId": "shellscript"
    }
   },
   "outputs": [
    {
     "name": "stdout",
     "output_type": "stream",
     "text": [
      "Updating /home/ctate/.local/src/smart-aquaculture/src/main/java/org/computate/smartaquaculture/model/fiware/crowdflowobserved/CrowdFlowObserved.java\n",
      "DONE\n"
     ]
    }
   ],
   "source": [
    "echo \"Updating $CLASS_PATH\"\n",
    "cat >$CLASS_PATH<<EOF\n",
    "package $CLASS_PACKAGE;\n",
    "EOF\n",
    "echo DONE"
   ]
  },
  {
   "cell_type": "markdown",
   "id": "6dad415e",
   "metadata": {},
   "source": [
    "## Make the Java class file"
   ]
  },
  {
   "cell_type": "code",
   "execution_count": 7,
   "id": "9de1610f",
   "metadata": {
    "vscode": {
     "languageId": "shellscript"
    }
   },
   "outputs": [
    {
     "name": "stdout",
     "output_type": "stream",
     "text": [
      "Updating /home/ctate/.local/src/smart-aquaculture/src/main/java/org/computate/smartaquaculture/model/fiware/crowdflowobserved/CrowdFlowObserved.java\n",
      "DONE\n"
     ]
    }
   ],
   "source": [
    "echo \"Updating $CLASS_PATH\"\n",
    "cat > $CLASS_PATH <<EOF\n",
    "package $CLASS_PACKAGE;\n",
    "\n",
    "import $SITE_BASE_MODEL_PACKAGE.BaseModel;\n",
    "import org.computate.search.wrap.Wrap;\n",
    "import io.vertx.pgclient.data.Point;\n",
    "\n",
    "/**\n",
    " * SmartDataModel: $SMART_DATA_MODEL_SEARCH\n",
    " */\n",
    "public class $CLASS_SIMPLE_NAME extends ${CLASS_SIMPLE_NAME}Gen<BaseModel> {\n",
    "}\n",
    "EOF\n",
    "echo DONE"
   ]
  },
  {
   "cell_type": "markdown",
   "id": "cae65ed7",
   "metadata": {},
   "source": [
    "## Rebuild the project OpenAPI spec, database scripts, and more\n",
    "\n",
    "A running web application is made up of much more than Java code. \n",
    "\n",
    "- A data-driven website is also made up of CSS Stylesheets and Java Script. Each model has it's own set of specific JavaScript specific to it's fields and APIs. \n",
    "\n",
    "- An OpenAPI Spec is generated to map out all the APIs and pages in the site for system integrators to consume or update data in the site. \n",
    "\n",
    "- A database schema is also generated for storing all model data with specific field values, tables, and foreign key relations. \n",
    "\n",
    "Run the command below to generate all of the code listed above. "
   ]
  },
  {
   "cell_type": "markdown",
   "id": "363fde08",
   "metadata": {},
   "source": [
    "Run the `index.sh` shell script of the `computate` project on  the  `smartvillage-platform` project to index all of the `smartvillage-platform` Java classes into the Apache Solr search engine. "
   ]
  },
  {
   "cell_type": "code",
   "execution_count": 8,
   "id": "b79a55f3",
   "metadata": {
    "vscode": {
     "languageId": "shellscript"
    }
   },
   "outputs": [
    {
     "name": "stdout",
     "output_type": "stream",
     "text": [
      "[\u001b[1;34mINFO\u001b[m] Scanning for projects...\n",
      "[\u001b[1;34mINFO\u001b[m] Inspecting build with total of 1 modules...\n",
      "[\u001b[1;34mINFO\u001b[m] Installing Nexus Staging features:\n",
      "[\u001b[1;34mINFO\u001b[m]   ... total of 1 executions of maven-deploy-plugin replaced with nexus-staging-maven-plugin\n",
      "[\u001b[1;34mINFO\u001b[m] \n",
      "[\u001b[1;34mINFO\u001b[m] \u001b[1m-------------------< \u001b[0;36morg.computate:smartaquaculture\u001b[0;1m >-------------------\u001b[m\n",
      "[\u001b[1;34mINFO\u001b[m] \u001b[1mBuilding Smart Aquaculture 1.0.0\u001b[m\n",
      "[\u001b[1;34mINFO\u001b[m] \u001b[1m--------------------------------[ jar ]---------------------------------\u001b[m\n",
      "Downloading from shibboleth-repo: https://build.shibboleth.net/nexus/content/repositories/releases/net/minidev/json-smart/maven-metadata.xml\n",
      "Downloading from central: https://repo1.maven.org/maven2/net/minidev/json-smart/maven-metadata.xml\n",
      "Downloading from github: https://maven.pkg.github.com/computate-org/*/net/minidev/json-smart/maven-metadata.xml\n",
      "Downloading from redhat-ga: https://maven.repository.redhat.com/ga/net/minidev/json-smart/maven-metadata.xml\n",
      "Downloaded from central: https://repo1.maven.org/maven2/net/minidev/json-smart/maven-metadata.xml (1.3 kB at 4.6 kB/s)\n",
      "Downloaded from redhat-ga: https://maven.repository.redhat.com/ga/net/minidev/json-smart/maven-metadata.xml (644 B at 1.9 kB/s)\n",
      "[\u001b[1;33mWARNING\u001b[m] Could not transfer metadata net.minidev:json-smart/maven-metadata.xml from/to github (https://maven.pkg.github.com/computate-org/*): authentication failed for https://maven.pkg.github.com/computate-org/*/net/minidev/json-smart/maven-metadata.xml, status: 401 Unauthorized\n",
      "[\u001b[1;33mWARNING\u001b[m] The POM for org.xhtmlrenderer:flying-saucer-swt:jar:9.1.22 is invalid, transitive dependencies (if any) will not be available, enable debug logging for more details\n",
      "[\u001b[1;34mINFO\u001b[m] \n",
      "[\u001b[1;34mINFO\u001b[m] \u001b[1m--- \u001b[0;32mexec-maven-plugin:3.1.0:java\u001b[m \u001b[1m(default-cli)\u001b[m @ \u001b[36msmartaquaculture\u001b[0;1m ---\u001b[m\n",
      "[org.computate.smartaquaculture.verticle.MainVerticle.main()] INFO io.vertx.spi.cluster.zookeeper.ZookeeperClusterManager - Loaded zookeeper.json file from resourceLocation=zookeeper.json\n",
      "[vert.x-eventloop-thread-0] INFO org.computate.smartaquaculture.verticle.MainVerticle - The config was configured successfully. \n",
      "[vert.x-eventloop-thread-0] INFO org.computate.vertx.openapi.Swagger2Generator - Write OpenAPI completed. \n",
      "[vert.x-eventloop-thread-0] INFO org.computate.vertx.openapi.BaseGenerator - Write SQL completed. \n",
      "[vert.x-eventloop-thread-0] INFO org.computate.vertx.openapi.BaseGenerator - Write Articles completed. \n",
      "[vert.x-eventloop-thread-0] INFO org.computate.vertx.openapi.FiwareGenerator - Write FIWARE completed. \n",
      "[vert.x-eventloop-thread-0] INFO org.computate.vertx.openapi.ProjectGenerator - Copy platform static files succeeded. \n",
      "\u001b[0m\u001b[0m\n",
      "DONE\n"
     ]
    }
   ],
   "source": [
    "eval $(cd ../../ && ./vars.py)\n",
    "(cd $SITE_SRC && env \\\n",
    "  RUN_ARTICLE_GENERATOR=true \\\n",
    "  RUN_FIWARE_GENERATOR=true \\\n",
    "  RUN_OPENAPI3_GENERATOR=true \\\n",
    "  RUN_PROJECT_GENERATOR=true \\\n",
    "  RUN_SQL_GENERATOR=true \\\n",
    "  VARS_PATH=$VARS_PATH \\\n",
    "  mvn exec:java -Dexec.mainClass=$SITE_MAIN_VERTICLE_PACKAGE.MainVerticle)\n",
    "echo DONE"
   ]
  },
  {
   "cell_type": "markdown",
   "id": "0f9b3283",
   "metadata": {},
   "source": [
    "## Run SQL create scripts with new PostgreSQL tables\n",
    "When we create new Smart Data Models that are persisted in the PostgreSQL database, we need to make sure that our database has all the tables and fields required to persist the data. Run the commands below to rsync the `db-create.sql` script to the PostgreSQL pod. It will connect again and apply all of the database schema changes to the database. "
   ]
  },
  {
   "cell_type": "code",
   "execution_count": 9,
   "id": "7352cb59",
   "metadata": {
    "vscode": {
     "languageId": "shellscript"
    }
   },
   "outputs": [
    {
     "name": "stdout",
     "output_type": "stream",
     "text": [
      "WARNING: cannot use rsync: rsync not available in container\n",
      "db-create.sql\n",
      "db-drop.sql\n",
      "CREATE TABLE\n",
      "ALTER TABLE\n",
      "ALTER TABLE\n",
      "ALTER TABLE\n",
      "ALTER TABLE\n",
      "ALTER TABLE\n",
      "ALTER TABLE\n",
      "ALTER TABLE\n",
      "ALTER TABLE\n",
      "ALTER TABLE\n",
      "ALTER TABLE\n",
      "ALTER TABLE\n",
      "ALTER TABLE\n",
      "ALTER TABLE\n",
      "ALTER TABLE\n",
      "CREATE TABLE\n",
      "ALTER TABLE\n",
      "ALTER TABLE\n",
      "ALTER TABLE\n",
      "ALTER TABLE\n",
      "ALTER TABLE\n",
      "ALTER TABLE\n",
      "ALTER TABLE\n",
      "ALTER TABLE\n",
      "ALTER TABLE\n",
      "ALTER TABLE\n",
      "ALTER TABLE\n",
      "ALTER TABLE\n",
      "ALTER TABLE\n",
      "ALTER TABLE\n",
      "ALTER TABLE\n",
      "ALTER TABLE\n",
      "ALTER TABLE\n",
      "ALTER TABLE\n",
      "ALTER TABLE\n",
      "ALTER TABLE\n",
      "ALTER TABLE\n",
      "ALTER TABLE\n",
      "ALTER TABLE\n",
      "ALTER TABLE\n",
      "CREATE TABLE\n",
      "ALTER TABLE\n",
      "ALTER TABLE\n",
      "ALTER TABLE\n",
      "ALTER TABLE\n",
      "ALTER TABLE\n",
      "ALTER TABLE\n",
      "ALTER TABLE\n",
      "ALTER TABLE\n",
      "ALTER TABLE\n",
      "ALTER TABLE\n",
      "ALTER TABLE\n",
      "ALTER TABLE\n",
      "ALTER TABLE\n",
      "ALTER TABLE\n",
      "ALTER TABLE\n",
      "ALTER TABLE\n",
      "ALTER TABLE\n",
      "ALTER TABLE\n",
      "ALTER TABLE\n",
      "ALTER TABLE\n",
      "CREATE TABLE\n",
      "ALTER TABLE\n",
      "ALTER TABLE\n",
      "ALTER TABLE\n",
      "ALTER TABLE\n",
      "ALTER TABLE\n",
      "ALTER TABLE\n",
      "ALTER TABLE\n",
      "ALTER TABLE\n",
      "ALTER TABLE\n",
      "ALTER TABLE\n",
      "ALTER TABLE\n",
      "ALTER TABLE\n",
      "ALTER TABLE\n",
      "ALTER TABLE\n",
      "ALTER TABLE\n",
      "ALTER TABLE\n",
      "ALTER TABLE\n",
      "ALTER TABLE\n",
      "ALTER TABLE\n",
      "ALTER TABLE\n",
      "CREATE TABLE\n",
      "ALTER TABLE\n",
      "ALTER TABLE\n",
      "ALTER TABLE\n",
      "ALTER TABLE\n",
      "ALTER TABLE\n",
      "ALTER TABLE\n",
      "ALTER TABLE\n",
      "ALTER TABLE\n",
      "ALTER TABLE\n",
      "ALTER TABLE\n",
      "ALTER TABLE\n",
      "ALTER TABLE\n",
      "ALTER TABLE\n",
      "ALTER TABLE\n",
      "ALTER TABLE\n",
      "ALTER TABLE\n",
      "ALTER TABLE\n",
      "ALTER TABLE\n",
      "ALTER TABLE\n",
      "ALTER TABLE\n",
      "ALTER TABLE\n",
      "ALTER TABLE\n",
      "ALTER TABLE\n",
      "ALTER TABLE\n",
      "ALTER TABLE\n",
      "ALTER TABLE\n",
      "ALTER TABLE\n",
      "ALTER TABLE\n",
      "ALTER TABLE\n",
      "CREATE TABLE\n",
      "ALTER TABLE\n",
      "ALTER TABLE\n",
      "ALTER TABLE\n",
      "ALTER TABLE\n",
      "ALTER TABLE\n",
      "ALTER TABLE\n",
      "ALTER TABLE\n",
      "ALTER TABLE\n",
      "ALTER TABLE\n",
      "ALTER TABLE\n",
      "ALTER TABLE\n",
      "ALTER TABLE\n",
      "ALTER TABLE\n",
      "ALTER TABLE\n",
      "ALTER TABLE\n",
      "ALTER TABLE\n",
      "ALTER TABLE\n",
      "ALTER TABLE\n",
      "ALTER TABLE\n",
      "ALTER TABLE\n",
      "ALTER TABLE\n",
      "ALTER TABLE\n",
      "ALTER TABLE\n",
      "ALTER TABLE\n",
      "ALTER TABLE\n",
      "DONE\n"
     ]
    }
   ],
   "source": [
    "eval $(cd ../../ && ./vars.py)\n",
    "oc -n postgres exec pod/postgresql-0 -- mkdir -p /bitnami/postgresql/sql/\n",
    "oc -n postgres rsync $SITE_SRC/src/main/resources/sql/ \\\n",
    "  pod/postgresql-0:/bitnami/postgresql/sql/\n",
    "oc -n postgres exec pod/postgresql-0 -- \\\n",
    "  env PGPASSWORD=$(oc -n $SITE_NAMESPACE get secret/postgres-pguser-$DATABASE_USERNAME -o jsonpath={.data.password} | base64 -d) \\\n",
    "  psql -U $DATABASE_USERNAME -d $DATABASE_DATABASE -f /bitnami/postgresql/sql/db-create.sql\n",
    "echo DONE"
   ]
  },
  {
   "cell_type": "markdown",
   "id": "28ddcee1",
   "metadata": {},
   "source": [
    "### Update your project MainVerticle.java Vert.x Verticle"
   ]
  },
  {
   "cell_type": "code",
   "execution_count": 10,
   "id": "501f7050",
   "metadata": {
    "vscode": {
     "languageId": "shellscript"
    }
   },
   "outputs": [
    {
     "name": "stdout",
     "output_type": "stream",
     "text": [
      "\n",
      "PLAY [create pom.xml] **********************************************************\n",
      "\n",
      "TASK [site-file : Query Apache Solr for all Auth Java classes] *****************\n",
      "ok: [localhost]\n",
      "\n",
      "TASK [site-file : Query Apache Solr for all Java classes] **********************\n",
      "ok: [localhost]\n",
      "\n",
      "TASK [site-file : Query Apache Solr for all public Java classes] ***************\n",
      "ok: [localhost]\n",
      "\n",
      "TASK [site-file : Query Apache Solr for all Java page templates] ***************\n",
      "ok: [localhost]\n",
      "\n",
      "TASK [site-file : set_fact] ****************************************************\n",
      "ok: [localhost]\n",
      "\n",
      "TASK [site-file : Create the project file directory /home/ctate/.local/src/smart-aquaculture/src/main/java/org/computate/smartaquaculture/verticle] ***\n",
      "ok: [localhost]\n",
      "\n",
      "TASK [site-file : Check for the project file MainVerticle.java] ****************\n",
      "ok: [localhost]\n",
      "\n",
      "TASK [site-file : Apply the template MainVerticle.java the project file /home/ctate/.local/src/smart-aquaculture/src/main/java/org/computate/smartaquaculture/verticle/MainVerticle.java] ***\n",
      "changed: [localhost]\n",
      "\n",
      "TASK [site-file : Copy the file {{ FILE_COPY_FROM }} to file {{ FILE_PATH }}] ***\n",
      "skipping: [localhost]\n",
      "\n",
      "PLAY RECAP *********************************************************************\n",
      "localhost                  : ok=8    changed=1    unreachable=0    failed=0    skipped=1    rescued=0    ignored=0   \n",
      "\n",
      "DONE\n"
     ]
    }
   ],
   "source": [
    "eval $(cd ../../ && ./vars.py)\n",
    "(cd ../../ && ansible-playbook -e @$VARS_PATH playbooks/create-file.yaml \\\n",
    "  -e FILE_PATH=\"{{ SITE_SRC }}/src/main/java/{{ SITE_MAIN_VERTICLE_PACKAGE | replace('.', '/') }}/MainVerticle.java\" \\\n",
    "  -e FILE_TEMPLATE=MainVerticle.java)\n",
    "echo DONE"
   ]
  },
  {
   "cell_type": "markdown",
   "id": "528cf7df",
   "metadata": {},
   "source": [
    "### Create your project WorkerVerticle.java Vert.x Verticle"
   ]
  },
  {
   "cell_type": "code",
   "execution_count": 11,
   "id": "90d9e79f",
   "metadata": {
    "vscode": {
     "languageId": "shellscript"
    }
   },
   "outputs": [
    {
     "name": "stdout",
     "output_type": "stream",
     "text": [
      "\n",
      "PLAY [create pom.xml] **********************************************************\n",
      "\n",
      "TASK [site-file : Query Apache Solr for all Auth Java classes] *****************\n",
      "ok: [localhost]\n",
      "\n",
      "TASK [site-file : Query Apache Solr for all Java classes] **********************\n",
      "ok: [localhost]\n",
      "\n",
      "TASK [site-file : Query Apache Solr for all public Java classes] ***************\n",
      "ok: [localhost]\n",
      "\n",
      "TASK [site-file : Query Apache Solr for all Java page templates] ***************\n",
      "ok: [localhost]\n",
      "\n",
      "TASK [site-file : set_fact] ****************************************************\n",
      "ok: [localhost]\n",
      "\n",
      "TASK [site-file : Create the project file directory /home/ctate/.local/src/smart-aquaculture/src/main/java/org/computate/smartaquaculture/verticle] ***\n",
      "ok: [localhost]\n",
      "\n",
      "TASK [site-file : Check for the project file WorkerVerticle.java] **************\n",
      "ok: [localhost]\n",
      "\n",
      "TASK [site-file : Apply the template WorkerVerticle.java the project file /home/ctate/.local/src/smart-aquaculture/src/main/java/org/computate/smartaquaculture/verticle/WorkerVerticle.java] ***\n",
      "changed: [localhost]\n",
      "\n",
      "TASK [site-file : Copy the file {{ FILE_COPY_FROM }} to file {{ FILE_PATH }}] ***\n",
      "skipping: [localhost]\n",
      "\n",
      "PLAY RECAP *********************************************************************\n",
      "localhost                  : ok=8    changed=1    unreachable=0    failed=0    skipped=1    rescued=0    ignored=0   \n",
      "\n",
      "DONE\n"
     ]
    }
   ],
   "source": [
    "eval $(cd ../../ && ./vars.py)\n",
    "(cd ../../ && ansible-playbook -e @$VARS_PATH playbooks/create-file.yaml \\\n",
    "  -e FILE_PATH=\"{{ SITE_SRC }}/src/main/java/{{ SITE_MAIN_VERTICLE_PACKAGE | replace('.', '/') }}/WorkerVerticle.java\" \\\n",
    "  -e FILE_TEMPLATE=WorkerVerticle.java)\n",
    "echo DONE"
   ]
  },
  {
   "cell_type": "markdown",
   "id": "871ef38a",
   "metadata": {},
   "source": [
    "### Create your project PageLayout.htm Jinja2 HTML template"
   ]
  },
  {
   "cell_type": "code",
   "execution_count": 12,
   "id": "7d9976a7",
   "metadata": {
    "vscode": {
     "languageId": "shellscript"
    }
   },
   "outputs": [
    {
     "name": "stdout",
     "output_type": "stream",
     "text": [
      "bash: ./vars.py: No such file or directory\n",
      "\n",
      "PLAY [create pom.xml] **********************************************************\n",
      "\n",
      "TASK [site-file : Query Apache Solr for all Auth Java classes] *****************\n",
      "ok: [localhost]\n",
      "\n",
      "TASK [site-file : Query Apache Solr for all Java classes] **********************\n",
      "ok: [localhost]\n",
      "\n",
      "TASK [site-file : Query Apache Solr for all public Java classes] ***************\n",
      "ok: [localhost]\n",
      "\n",
      "TASK [site-file : Query Apache Solr for all Java page templates] ***************\n",
      "ok: [localhost]\n",
      "\n",
      "TASK [site-file : set_fact] ****************************************************\n",
      "ok: [localhost]\n",
      "\n",
      "TASK [site-file : Create the project file directory /home/ctate/.local/src/smart-aquaculture/src/main/resources/templates/en-us] ***\n",
      "ok: [localhost]\n",
      "\n",
      "TASK [site-file : Check for the project file PageLayout.htm] *******************\n",
      "ok: [localhost]\n",
      "\n",
      "TASK [site-file : Apply the template PageLayout.htm the project file /home/ctate/.local/src/smart-aquaculture/src/main/resources/templates/en-us/PageLayout.htm] ***\n",
      "changed: [localhost]\n",
      "\n",
      "TASK [site-file : Copy the file {{ FILE_COPY_FROM }} to file {{ FILE_PATH }}] ***\n",
      "skipping: [localhost]\n",
      "\n",
      "PLAY RECAP *********************************************************************\n",
      "localhost                  : ok=8    changed=1    unreachable=0    failed=0    skipped=1    rescued=0    ignored=0   \n",
      "\n",
      "DONE\n"
     ]
    }
   ],
   "source": [
    "eval $(cd ../../ && ./vars.py)\n",
    "(cd ../../ && ansible-playbook -e @$VARS_PATH playbooks/create-file.yaml \\\n",
    "  -e FILE_PATH=\"{{ SITE_SRC }}/src/main/resources/templates/en-us/PageLayout.htm\" \\\n",
    "  -e FILE_TEMPLATE=PageLayout.htm)\n",
    "echo DONE"
   ]
  },
  {
   "cell_type": "markdown",
   "id": "5649419d",
   "metadata": {},
   "source": [
    "## Compile your Java project"
   ]
  },
  {
   "cell_type": "code",
   "execution_count": null,
   "id": "708966fd",
   "metadata": {
    "vscode": {
     "languageId": "shellscript"
    }
   },
   "outputs": [],
   "source": [
    "eval $(cd ../../ && ./vars.py)\n",
    "(cd $SITE_SRC && mvn clean install)\n",
    "echo DONE"
   ]
  },
  {
   "cell_type": "code",
   "execution_count": null,
   "id": "787e53a0",
   "metadata": {
    "vscode": {
     "languageId": "shellscript"
    }
   },
   "outputs": [],
   "source": []
  },
  {
   "cell_type": "markdown",
   "id": "d3c4ba5b",
   "metadata": {},
   "source": []
  }
 ],
 "metadata": {
  "kernelspec": {
   "display_name": "Bash",
   "language": "bash",
   "name": "bash"
  },
  "language_info": {
   "codemirror_mode": "shell",
   "file_extension": ".sh",
   "mimetype": "text/x-sh",
   "name": "bash"
  }
 },
 "nbformat": 4,
 "nbformat_minor": 5
}
