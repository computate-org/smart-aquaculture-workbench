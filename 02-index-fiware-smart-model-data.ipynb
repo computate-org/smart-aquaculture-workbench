{
 "cells": [
  {
   "cell_type": "markdown",
   "id": "df4787de",
   "metadata": {},
   "source": [
    "# Smart Aquaculture Use Case for the Computate Smart Cloud Builder\n",
    "\n",
    "## About the open source GPL3 license and copyright for this product\n",
    "\n",
    "Copyright © 2024 Computate Limited Liability Company in Utah, USA\n",
    "\n",
    "This program is free software: you can redistribute it and/or modify\n",
    "it under the terms of the GNU General Public License as published by\n",
    "the Free Software Foundation, either version 3 of the License, or\n",
    "(at your option) any later version.\n",
    "\n",
    "This program is distributed in the hope that it will be useful,\n",
    "but WITHOUT ANY WARRANTY; without even the implied warranty of\n",
    "MERCHANTABILITY or FITNESS FOR A PARTICULAR PURPOSE.  See the\n",
    "GNU General Public License for more details.\n",
    "\n",
    "You should have received a copy of the GNU General Public License\n",
    "along with this program.  If not, see <https://www.gnu.org/licenses/>.\n",
    "\n",
    "ADDITIONAL TERMS\n",
    "\n",
    "As stated in section 7. c) and e) of the GPL3 license, \n",
    "\"you may supplement the terms of this License with terms,\" \n",
    "Computate has added the following additional terms to the license: \n",
    "\n",
    "  7 c) Prohibiting misrepresentation of the origin of that material, and\n",
    "    requiring that modified versions of such material be marked in\n",
    "    reasonable ways as different from the original version;\n",
    "\n",
    "  7 e) Declining to grant rights under trademark law for use of some\n",
    "    trade names, trademarks, or service marks;\n",
    "\n",
    "Please do not redistribute this use case unless you have built your own fork \n",
    "of this use case with these tools, separate from this use case, \n",
    "and customized for your organization. \n",
    "\n",
    "These terms allow you to monetize your own customized open source use case \n",
    "for your own organization in a sustainable open source way, and pull in \n",
    "upstream changes from this use case into your customized use case. \n",
    "\n",
    "QUESTIONS\n",
    "\n",
    "For questions about this open source license, \n",
    "please contact our public mailing list at computate@group.computate.org"
   ]
  },
  {
   "cell_type": "markdown",
   "id": "fb657b93-d1e1-4bc5-8b8f-25bd212beb85",
   "metadata": {},
   "source": [
    "# Load the code search model into the Solr search engine\n",
    "\n",
    "In this hackathon, we will be generating code with AI/ML provided by the well established [computate project](https://github.com/computate-org/computate). We will automatically generate OpenAPI specs, database table schemas, Java POJOs, Vert.x Reactive Java APIs, Handlebars HTML page templates, JavaScript page and API functions, NGSI-LD Context data, OpenShift Custom Resource Definitions, and Ansible Operator roles and playbooks for any of the hundreds of open source Edge device data related [FIWARE Smart Data Models available here](https://github.com/smart-data-models). "
   ]
  },
  {
   "cell_type": "markdown",
   "id": "f5962e5d-48c2-49c3-86cc-5f5d1ba7a8a6",
   "metadata": {
    "vscode": {
     "languageId": "shellscript"
    }
   },
   "source": [
    "## Clone and index all Smart Data Models\n",
    "\n",
    "Run the Ansible Playbook below to clone the hundreds of FIWARE Smart Data Models, and index each Smart Data Model in Apache Solr. We search this Smart Data Model data when we create new Java classes to see if there is a `SmartDataModel: search terms...` class comment in the code that closely matches a Smart Data Model in the Solr search engine, then we will generate all the code for this Smart Data Model automatically. "
   ]
  },
  {
   "cell_type": "code",
   "execution_count": null,
   "id": "096510a7",
   "metadata": {
    "vscode": {
     "languageId": "shellscript"
    }
   },
   "outputs": [],
   "source": [
    "eval $(cd ../../ && ./vars.py)\n",
    "(cd ../../ && ansible-playbook -e @$VARS_PATH playbooks/clone-smart-model-data.yaml)\n",
    "echo DONE"
   ]
  },
  {
   "cell_type": "markdown",
   "id": "f7a4c743",
   "metadata": {},
   "source": [
    "## Search for Smart Data Models"
   ]
  },
  {
   "cell_type": "markdown",
   "id": "4e407783",
   "metadata": {},
   "source": [
    "Query the search engine for a smart data model matching the `SEARCH_TERM`. \n",
    "You can customize the `SEARCH_TERM` environment variable below for different results. "
   ]
  },
  {
   "cell_type": "code",
   "execution_count": null,
   "id": "ac6d9c56",
   "metadata": {
    "vscode": {
     "languageId": "shellscript"
    }
   },
   "outputs": [],
   "source": [
    "eval $(cd ../../ && ./vars.py)\n",
    "SEARCH_TERM=\"Fish Feed\"\n",
    "REGEX1='s/( +)/ OR /g'\n",
    "REGEX2='s/^([\\w\\W])$/\"$1\"/g'\n",
    "ENCODED_STR=\"$(echo $SEARCH_TERM | perl -p -e 's/([a-z])([A-Z])/$1 $2/g' | perl -p -e 's/( +)/\" OR \"/g' | perl -p -e 's/^([\\w\\W]+?)\\s*$/(\"$1\")/g')\"\n",
    "echo $ENCODED_STR\n",
    "DOMAIN_QUERY=\"domainName_suggested:$ENCODED_STR^2 OR domainName_text_enUS:$ENCODED_STR^5\"\n",
    "SUBMODULE_QUERY=\"submoduleShortName_suggested:$ENCODED_STR^3 OR submoduleShortName_text_enUS:$ENCODED_STR^10\"\n",
    "MODEL_QUERY=\"modelName_suggested:$ENCODED_STR^10 OR modelName_text_enUS:$ENCODED_STR^20\"\n",
    "SEARCH_QUERY=\"$DOMAIN_QUERY OR $SUBMODULE_QUERY OR $MODEL_QUERY\"\n",
    "STUFF=\"&fl=*,score&sort=score desc\"\n",
    "echo $SEARCH_QUERY && echo\n",
    "\n",
    "curl -k -s -u \"$SOLR_USERNAME:$SOLR_PASSWORD\" \"$SOLR_URL_COMPUTATE\"'/query' \\\n",
    "    --data-urlencode 'fl=*,score' \\\n",
    "    --data-urlencode 'sort=score desc' \\\n",
    "    --data-urlencode \"fq=computateFiwareSmartDataModel_docvalues_boolean:true\" \\\n",
    "    --data-urlencode \"q=$SEARCH_QUERY\" \\\n",
    "  | jq -r '\"\\(.response.docs | map(.domainName_docvalues_string + \" \" + .submoduleShortName_docvalues_string + \" \" + .modelName_docvalues_string) | join(\"\\n\"))\"'\n",
    "echo DONE"
   ]
  },
  {
   "cell_type": "markdown",
   "id": "d3c4ba5b",
   "metadata": {},
   "source": []
  }
 ],
 "metadata": {
  "kernelspec": {
   "display_name": "Bash",
   "language": "bash",
   "name": "bash"
  },
  "language_info": {
   "codemirror_mode": "shell",
   "file_extension": ".sh",
   "mimetype": "text/x-sh",
   "name": "bash"
  }
 },
 "nbformat": 4,
 "nbformat_minor": 5
}
