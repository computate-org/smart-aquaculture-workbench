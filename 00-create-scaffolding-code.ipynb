{
 "cells": [
  {
   "cell_type": "markdown",
   "metadata": {},
   "source": [
    "# Computate Smart Website Builder\n",
    "\n",
    "## About the open source GPL3 license and copyright for this product\n",
    "\n",
    "Copyright © 2025 Computate Limited Liability Company in Utah, USA\n",
    "\n",
    "This program is free software: you can redistribute it and/or modify\n",
    "it under the terms of the GNU General Public License as published by\n",
    "the Free Software Foundation, either version 3 of the License, or\n",
    "(at your option) any later version.\n",
    "\n",
    "This program is distributed in the hope that it will be useful,\n",
    "but WITHOUT ANY WARRANTY; without even the implied warranty of\n",
    "MERCHANTABILITY or FITNESS FOR A PARTICULAR PURPOSE.  See the\n",
    "GNU General Public License for more details.\n",
    "\n",
    "You should have received a copy of the GNU General Public License\n",
    "along with this program.  If not, see <https://www.gnu.org/licenses/>.\n",
    "\n",
    "ADDITIONAL TERMS\n",
    "\n",
    "As stated in section 7. c) and e) of the GPL3 license, \n",
    "\"you may supplement the terms of this License with terms,\" \n",
    "Computate has added the following additional terms to the license: \n",
    "\n",
    "  7 c) Prohibiting misrepresentation of the origin of that material, and\n",
    "    requiring that modified versions of such material be marked in\n",
    "    reasonable ways as different from the original version;\n",
    "\n",
    "  7 e) Declining to grant rights under trademark law for use of some\n",
    "    trade names, trademarks, or service marks;\n",
    "\n",
    "Please do not redistribute this course until you have built your own platform with these tools, \n",
    "separate from the computate.org platform, and reconfigure your fork of this repo to deploy \n",
    "your own platform instead of the computate.org platform. \n",
    "\n",
    "QUESTIONS\n",
    "\n",
    "For questions about this open source license, please contact our public mailing list at computate@group.computate.org\n"
   ]
  },
  {
   "cell_type": "markdown",
   "metadata": {},
   "source": [
    "# Switch to the Jupyter Kernel — bash\n",
    "\n",
    "When opening this Jupyter Notebook in VSCode, you will need to switch to the Bash Jupyter Kernel. \n",
    "\n",
    "- In the top right corner of your VSCode workbench, click `Select Kernel`. \n",
    "- Click `Jupyter Kernel...`\n",
    "- Click `Bash /opt/app-root/bin/python`\n",
    "- It should now say `Bash` in the top right corner of your VSCode workbench. "
   ]
  },
  {
   "cell_type": "markdown",
   "metadata": {},
   "source": [
    "# Create your project"
   ]
  },
  {
   "cell_type": "markdown",
   "metadata": {},
   "source": [
    "## Update your variables"
   ]
  },
  {
   "cell_type": "markdown",
   "metadata": {},
   "source": [
    "Take a look at the vars you are using to create your project. Customize the vars to match the project you would like to build. "
   ]
  },
  {
   "cell_type": "code",
   "execution_count": null,
   "metadata": {
    "vscode": {
     "languageId": "shellscript"
    }
   },
   "outputs": [],
   "source": [
    "ls -l vars.yaml\n",
    "./vars.py\n",
    "echo DONE"
   ]
  },
  {
   "cell_type": "markdown",
   "metadata": {},
   "source": [
    "You can replace the default vars with your own vars with a symbolic link from your project to the computate-smart-laptop-challenge so that these Jupyter Notebooks work with your vars in a separate project. \n",
    "\n",
    "This should already be done from an earlier step in the course. \n",
    "\n",
    "```bash\n",
    "ln -s ../my-project/vars.yaml\n",
    "```"
   ]
  },
  {
   "cell_type": "markdown",
   "metadata": {},
   "source": [
    "## Create your project files"
   ]
  },
  {
   "cell_type": "markdown",
   "metadata": {},
   "source": [
    "### Create your project .vscode/launch.json\n",
    "\n",
    "This is configuring Run/Debug 2 launch configurations in VSCode for the project. \n",
    "- One for regenerating the API, database schema, OpenAPI spec, and FIWARE context data automatically, to save you lots of time. \n",
    "- Another one for running the site in development. "
   ]
  },
  {
   "cell_type": "code",
   "execution_count": null,
   "metadata": {
    "vscode": {
     "languageId": "shellscript"
    }
   },
   "outputs": [],
   "source": [
    "eval $(./vars.py)\n",
    "ansible-playbook -e @$VARS_PATH playbooks/create-file.yaml \\\n",
    "  -e FILE_PATH=\"/opt/app-root/src/.vscode/launch.json\" \\\n",
    "  -e FILE_TEMPLATE=launch.json\n",
    "echo DONE"
   ]
  },
  {
   "cell_type": "markdown",
   "metadata": {},
   "source": [
    "### Create your project .gitignore\n",
    "\n",
    "ignores some files related to Maven, VSCode, and shell scripts with specific paths for your environment. "
   ]
  },
  {
   "cell_type": "code",
   "execution_count": null,
   "metadata": {
    "vscode": {
     "languageId": "shellscript"
    }
   },
   "outputs": [],
   "source": [
    "eval $(./vars.py)\n",
    "ansible-playbook -e @$VARS_PATH playbooks/create-file.yaml \\\n",
    "  -e FILE_PATH=\"{{ SITE_SRC }}/.gitignore\" \\\n",
    "  -e FILE_COPY_FROM=$(pwd)/roles/site-file/templates/gitignore\n",
    "echo DONE"
   ]
  },
  {
   "cell_type": "markdown",
   "metadata": {},
   "source": [
    "### Create your project pom.xml\n",
    "\n",
    "Contains the Java dependencies for the project. "
   ]
  },
  {
   "cell_type": "code",
   "execution_count": null,
   "metadata": {
    "vscode": {
     "languageId": "shellscript"
    }
   },
   "outputs": [],
   "source": [
    "eval $(./vars.py)\n",
    "ansible-playbook -e @$VARS_PATH playbooks/create-file.yaml \\\n",
    "  -e FILE_PATH=\"$SITE_SRC/pom.xml\" \\\n",
    "  -e FILE_TEMPLATE=pom.xml\n",
    "echo DONE"
   ]
  },
  {
   "cell_type": "markdown",
   "metadata": {},
   "source": [
    "### Create your project ConfigKeys.java Java Class\n",
    "\n",
    "For storing public static final Strings related to environment variables for the site, to use in the code. "
   ]
  },
  {
   "cell_type": "code",
   "execution_count": null,
   "metadata": {
    "vscode": {
     "languageId": "shellscript"
    }
   },
   "outputs": [],
   "source": [
    "eval $(./vars.py)\n",
    "ansible-playbook -e @$VARS_PATH playbooks/create-file.yaml \\\n",
    "  -e FILE_PATH=\"{{ SITE_SRC }}/src/main/java/{{ SITE_CONFIG_KEYS_PACKAGE | replace('.', '/') }}/ConfigKeys.java\" \\\n",
    "  -e FILE_TEMPLATE=ConfigKeys.java\n",
    "echo DONE"
   ]
  },
  {
   "cell_type": "markdown",
   "metadata": {},
   "source": [
    "### Create your project SiteRequest.java Java Class\n",
    "\n",
    "A helper Java class for requests coming into the site, to temporarily store information about the site, the current HTTP request, the user, and more. "
   ]
  },
  {
   "cell_type": "code",
   "execution_count": null,
   "metadata": {
    "vscode": {
     "languageId": "shellscript"
    }
   },
   "outputs": [],
   "source": [
    "eval $(./vars.py)\n",
    "ansible-playbook -e @$VARS_PATH playbooks/create-file.yaml \\\n",
    "  -e FILE_PATH=\"{{ SITE_SRC }}/src/main/java/{{ SITE_REQUEST_PACKAGE | replace('.', '/') }}/SiteRequest.java\" \\\n",
    "  -e FILE_TEMPLATE=SiteRequest.java\n",
    "echo DONE"
   ]
  },
  {
   "cell_type": "markdown",
   "metadata": {},
   "source": [
    "### Create your project BaseResult.java Java class\n",
    "\n",
    "This is a Java class that you can extend for data that you want to store in the search engine, but not persistent in the database. "
   ]
  },
  {
   "cell_type": "code",
   "execution_count": null,
   "metadata": {
    "vscode": {
     "languageId": "shellscript"
    }
   },
   "outputs": [],
   "source": [
    "eval $(./vars.py)\n",
    "ansible-playbook -e @$VARS_PATH playbooks/create-file.yaml \\\n",
    "  -e FILE_PATH=\"{{ SITE_SRC }}/src/main/java/{{ SITE_BASE_RESULT_PACKAGE | replace('.', '/') }}/BaseResult.java\" \\\n",
    "  -e FILE_TEMPLATE=BaseResult.java\n",
    "echo DONE"
   ]
  },
  {
   "cell_type": "markdown",
   "metadata": {},
   "source": [
    "### Create your project BaseModel.java Java Class\n",
    "\n",
    "This is a Java class that you can extend for data that you want to store in the database and the search engine. "
   ]
  },
  {
   "cell_type": "code",
   "execution_count": null,
   "metadata": {
    "vscode": {
     "languageId": "shellscript"
    }
   },
   "outputs": [],
   "source": [
    "eval $(./vars.py)\n",
    "ansible-playbook -e @$VARS_PATH playbooks/create-file.yaml \\\n",
    "  -e FILE_PATH=\"{{ SITE_SRC }}/src/main/java/{{ SITE_BASE_MODEL_PACKAGE | replace('.', '/') }}/BaseModel.java\" \\\n",
    "  -e FILE_TEMPLATE=BaseModel.java\n",
    "echo DONE"
   ]
  },
  {
   "cell_type": "markdown",
   "metadata": {},
   "source": [
    "### Create your project package-info.java @ModuleGen Package\n",
    "\n",
    "This is for [Vert.x Service Proxy API code generation](https://vertx.io/docs/4.1.8/vertx-service-proxy/java/). "
   ]
  },
  {
   "cell_type": "code",
   "execution_count": null,
   "metadata": {
    "vscode": {
     "languageId": "shellscript"
    }
   },
   "outputs": [],
   "source": [
    "eval $(./vars.py)\n",
    "ansible-playbook -e @$VARS_PATH playbooks/create-file.yaml \\\n",
    "  -e FILE_PATH=\"{{ SITE_SRC }}/src/main/java/{{ SITE_JAVA_PACKAGE | replace('.', '/') }}/package-info.java\" \\\n",
    "  -e FILE_TEMPLATE=package-info.java\n",
    "echo DONE"
   ]
  },
  {
   "cell_type": "markdown",
   "metadata": {},
   "source": [
    "### Create your project site.css\n",
    "\n",
    "This contains the basic website layout CSS for the whole site. "
   ]
  },
  {
   "cell_type": "code",
   "execution_count": null,
   "metadata": {
    "vscode": {
     "languageId": "shellscript"
    }
   },
   "outputs": [],
   "source": [
    "eval $(./vars.py)\n",
    "ansible-playbook -e @$VARS_PATH playbooks/create-file.yaml \\\n",
    "  -e FILE_PATH=\"{{ STATIC_PATH }}/css/site.css\" \\\n",
    "  -e FILE_TEMPLATE=$(pwd)/roles/site-file/templates/site.css\n",
    "echo DONE"
   ]
  },
  {
   "cell_type": "markdown",
   "metadata": {},
   "source": [
    "### Create your project site.js\n",
    "\n",
    "This contains the required JavaScript for the site. "
   ]
  },
  {
   "cell_type": "code",
   "execution_count": null,
   "metadata": {
    "vscode": {
     "languageId": "shellscript"
    }
   },
   "outputs": [],
   "source": [
    "eval $(./vars.py)\n",
    "ansible-playbook -e @$VARS_PATH playbooks/create-file.yaml \\\n",
    "  -e FILE_PATH=\"{{ STATIC_PATH }}/js/site.js\" \\\n",
    "  -e FILE_COPY_FROM=$(pwd)/roles/site-file/templates/site.js\n",
    "echo DONE"
   ]
  },
  {
   "cell_type": "markdown",
   "metadata": {},
   "source": [
    "### Create your project siteModule.js\n",
    "\n",
    "This is an additional JavaScript module in the site that makes the page appear after all the web components have finished loading. "
   ]
  },
  {
   "cell_type": "code",
   "execution_count": null,
   "metadata": {
    "vscode": {
     "languageId": "shellscript"
    }
   },
   "outputs": [],
   "source": [
    "eval $(./vars.py)\n",
    "ansible-playbook -e @$VARS_PATH playbooks/create-file.yaml \\\n",
    "  -e FILE_PATH=\"{{ STATIC_PATH }}/js/siteModule.js\" \\\n",
    "  -e FILE_TEMPLATE=$(pwd)/roles/site-file/templates/siteModule.js\n",
    "echo DONE"
   ]
  },
  {
   "cell_type": "markdown",
   "metadata": {},
   "source": [
    "### Create your project leaflet.contextmenu.css\n",
    "\n",
    "This is CSS style for menus inside of maps. "
   ]
  },
  {
   "cell_type": "code",
   "execution_count": null,
   "metadata": {
    "vscode": {
     "languageId": "shellscript"
    }
   },
   "outputs": [],
   "source": [
    "eval $(./vars.py)\n",
    "ansible-playbook -e @$VARS_PATH playbooks/create-file.yaml \\\n",
    "  -e FILE_PATH=\"{{ STATIC_PATH }}/css/leaflet.contextmenu.css\" \\\n",
    "  -e FILE_COPY_FROM=$(pwd)/roles/site-file/templates/leaflet.contextmenu.css\n",
    "echo DONE"
   ]
  },
  {
   "cell_type": "markdown",
   "metadata": {},
   "source": [
    "### Create your project leaflet.contextmenu.js\n",
    "\n",
    "This is JavaScript for menus inside of maps. "
   ]
  },
  {
   "cell_type": "code",
   "execution_count": null,
   "metadata": {
    "vscode": {
     "languageId": "shellscript"
    }
   },
   "outputs": [],
   "source": [
    "eval $(./vars.py)\n",
    "ansible-playbook -e @$VARS_PATH playbooks/create-file.yaml \\\n",
    "  -e FILE_PATH=\"{{ STATIC_PATH }}/js/leaflet.contextmenu.js\" \\\n",
    "  -e FILE_COPY_FROM=$(pwd)/roles/site-file/templates/leaflet.contextmenu.js\n",
    "echo DONE"
   ]
  },
  {
   "cell_type": "markdown",
   "metadata": {},
   "source": [
    "### Create your project leaflet.draw.js"
   ]
  },
  {
   "cell_type": "code",
   "execution_count": null,
   "metadata": {
    "vscode": {
     "languageId": "shellscript"
    }
   },
   "outputs": [],
   "source": [
    "eval $(./vars.py)\n",
    "ansible-playbook -e @$VARS_PATH playbooks/create-file.yaml \\\n",
    "  -e FILE_PATH=\"{{ STATIC_PATH }}/js/leaflet.draw.js\" \\\n",
    "  -e FILE_COPY_FROM=$(pwd)/roles/site-file/templates/leaflet.draw.js\n",
    "echo DONE"
   ]
  },
  {
   "cell_type": "markdown",
   "metadata": {},
   "source": [
    "### Create your project leaflet.draw.css"
   ]
  },
  {
   "cell_type": "code",
   "execution_count": null,
   "metadata": {
    "vscode": {
     "languageId": "shellscript"
    }
   },
   "outputs": [],
   "source": [
    "eval $(./vars.py)\n",
    "ansible-playbook -e @$VARS_PATH playbooks/create-file.yaml \\\n",
    "  -e FILE_PATH=\"{{ STATIC_PATH }}/css/leaflet.draw.css\" \\\n",
    "  -e FILE_COPY_FROM=$(pwd)/roles/site-file/templates/leaflet.draw.css\n",
    "echo DONE"
   ]
  },
  {
   "cell_type": "markdown",
   "metadata": {},
   "source": [
    "### Create your project leaflet.js"
   ]
  },
  {
   "cell_type": "code",
   "execution_count": null,
   "metadata": {
    "vscode": {
     "languageId": "shellscript"
    }
   },
   "outputs": [],
   "source": [
    "eval $(./vars.py)\n",
    "ansible-playbook -e @$VARS_PATH playbooks/create-file.yaml \\\n",
    "  -e FILE_PATH=\"{{ STATIC_PATH }}/js/leaflet.js\" \\\n",
    "  -e FILE_COPY_FROM=$(pwd)/roles/site-file/templates/leaflet.js\n",
    "echo DONE"
   ]
  },
  {
   "cell_type": "markdown",
   "metadata": {},
   "source": [
    "### Create your project leaflet.js.map"
   ]
  },
  {
   "cell_type": "code",
   "execution_count": null,
   "metadata": {
    "vscode": {
     "languageId": "shellscript"
    }
   },
   "outputs": [],
   "source": [
    "eval $(./vars.py)\n",
    "ansible-playbook -e @$VARS_PATH playbooks/create-file.yaml \\\n",
    "  -e FILE_PATH=\"{{ STATIC_PATH }}/js/leaflet.js.map\" \\\n",
    "  -e FILE_COPY_FROM=$(pwd)/roles/site-file/templates/leaflet.js.map\n",
    "echo DONE"
   ]
  },
  {
   "cell_type": "markdown",
   "metadata": {},
   "source": [
    "### Create your project leaflet.css"
   ]
  },
  {
   "cell_type": "code",
   "execution_count": null,
   "metadata": {
    "vscode": {
     "languageId": "shellscript"
    }
   },
   "outputs": [],
   "source": [
    "eval $(./vars.py)\n",
    "ansible-playbook -e @$VARS_PATH playbooks/create-file.yaml \\\n",
    "  -e FILE_PATH=\"{{ STATIC_PATH }}/css/leaflet.css\" \\\n",
    "  -e FILE_COPY_FROM=$(pwd)/roles/site-file/templates/leaflet.css\n",
    "echo DONE"
   ]
  },
  {
   "cell_type": "markdown",
   "metadata": {},
   "source": [
    "### Create your project leaflet spritesheet.svg"
   ]
  },
  {
   "cell_type": "code",
   "execution_count": null,
   "metadata": {
    "vscode": {
     "languageId": "shellscript"
    }
   },
   "outputs": [],
   "source": [
    "eval $(./vars.py)\n",
    "ansible-playbook -e @$VARS_PATH playbooks/create-file.yaml \\\n",
    "  -e FILE_PATH=\"{{ STATIC_PATH }}/css/images/spritesheet.svg\" \\\n",
    "  -e FILE_COPY_FROM=$(pwd)/roles/site-file/templates/spritesheet.svg\n",
    "echo DONE"
   ]
  },
  {
   "cell_type": "markdown",
   "metadata": {},
   "source": [
    "### Create your project leaflet marker-icon.png"
   ]
  },
  {
   "cell_type": "code",
   "execution_count": null,
   "metadata": {
    "vscode": {
     "languageId": "shellscript"
    }
   },
   "outputs": [],
   "source": [
    "eval $(./vars.py)\n",
    "ansible-playbook -e @$VARS_PATH playbooks/create-file.yaml \\\n",
    "  -e FILE_PATH=\"{{ STATIC_PATH }}/css/images/marker-icon.png\" \\\n",
    "  -e FILE_COPY_FROM=$(pwd)/roles/site-file/templates/marker-icon.png\n",
    "echo DONE"
   ]
  },
  {
   "cell_type": "markdown",
   "metadata": {},
   "source": [
    "### Create your project sockjs.js\n",
    "\n",
    "\n",
    "This is JavaScript for websockets in the site, for event driven messages from the server back to the connected browsers to update the page based on data changes. "
   ]
  },
  {
   "cell_type": "code",
   "execution_count": null,
   "metadata": {
    "vscode": {
     "languageId": "shellscript"
    }
   },
   "outputs": [],
   "source": [
    "eval $(./vars.py)\n",
    "ansible-playbook -e @$VARS_PATH playbooks/create-file.yaml \\\n",
    "  -e FILE_PATH=\"{{ STATIC_PATH }}/js/sockjs.js\" \\\n",
    "  -e FILE_COPY_FROM=$(pwd)/roles/site-file/templates/sockjs.js\n",
    "echo DONE"
   ]
  },
  {
   "cell_type": "markdown",
   "metadata": {},
   "source": [
    "### Create your project sockjs-map.json\n",
    "\n",
    "This is JavaScript for websockets in the site, for event driven messages from the server back to the connected browsers to update the page based on data changes. "
   ]
  },
  {
   "cell_type": "code",
   "execution_count": null,
   "metadata": {
    "vscode": {
     "languageId": "shellscript"
    }
   },
   "outputs": [],
   "source": [
    "eval $(./vars.py)\n",
    "ansible-playbook -e @$VARS_PATH playbooks/create-file.yaml \\\n",
    "  -e FILE_PATH=\"{{ STATIC_PATH }}/js/sockjs-map.json\" \\\n",
    "  -e FILE_COPY_FROM=$(pwd)/roles/site-file/templates/sockjs-map.json\n",
    "echo DONE"
   ]
  },
  {
   "cell_type": "markdown",
   "metadata": {},
   "source": [
    "### Create your project plotly-2.9.0.min.js\n",
    "\n",
    "This is JavaScript for providing maps and graphs of data in the site. "
   ]
  },
  {
   "cell_type": "code",
   "execution_count": null,
   "metadata": {
    "vscode": {
     "languageId": "shellscript"
    }
   },
   "outputs": [],
   "source": [
    "eval $(./vars.py)\n",
    "ansible-playbook -e @$VARS_PATH playbooks/create-file.yaml \\\n",
    "  -e FILE_PATH=\"{{ STATIC_PATH }}/js/plotly-2.9.0.min.js\" \\\n",
    "  -e FILE_COPY_FROM=$(pwd)/roles/site-file/templates/plotly-2.9.0.min.js\n",
    "echo DONE"
   ]
  },
  {
   "cell_type": "markdown",
   "metadata": {},
   "source": [
    "### Create your project vertx-eventbus.js\n",
    "\n",
    "This is JavaScript for Vert.x to use websockets in the site, for event driven messages from the server back to the connected browsers to update the page based on data changes. "
   ]
  },
  {
   "cell_type": "code",
   "execution_count": null,
   "metadata": {
    "vscode": {
     "languageId": "shellscript"
    }
   },
   "outputs": [],
   "source": [
    "eval $(./vars.py)\n",
    "ansible-playbook -e @$VARS_PATH playbooks/create-file.yaml \\\n",
    "  -e FILE_PATH=\"{{ STATIC_PATH }}/js/vertx-eventbus.js\" \\\n",
    "  -e FILE_COPY_FROM=$(pwd)/roles/site-file/templates/vertx-eventbus.js\n",
    "echo DONE"
   ]
  },
  {
   "cell_type": "markdown",
   "metadata": {},
   "source": [
    "### Create your project computate-keys.svg\n",
    "\n",
    "This is the Computate logo. "
   ]
  },
  {
   "cell_type": "code",
   "execution_count": null,
   "metadata": {
    "vscode": {
     "languageId": "shellscript"
    }
   },
   "outputs": [],
   "source": [
    "eval $(./vars.py)\n",
    "ansible-playbook -e @$VARS_PATH playbooks/create-file.yaml \\\n",
    "  -e FILE_PATH=\"{{ STATIC_PATH }}/svg/computate-keys.svg\" \\\n",
    "  -e FILE_COPY_FROM=$(pwd)/roles/site-file/templates/computate-keys.svg\n",
    "echo DONE"
   ]
  },
  {
   "cell_type": "markdown",
   "metadata": {},
   "source": [
    "### Create your project openshift-dedicated-google-cloud.png\n",
    "\n",
    "This is the OpenShift Dedicated logo. "
   ]
  },
  {
   "cell_type": "code",
   "execution_count": null,
   "metadata": {
    "vscode": {
     "languageId": "shellscript"
    }
   },
   "outputs": [],
   "source": [
    "eval $(./vars.py)\n",
    "ansible-playbook -e @$VARS_PATH playbooks/create-file.yaml \\\n",
    "  -e FILE_PATH=\"{{ STATIC_PATH }}/png/openshift-dedicated-google-cloud.png\" \\\n",
    "  -e FILE_COPY_FROM=$(pwd)/roles/site-file/templates/openshift-dedicated-google-cloud.png\n",
    "echo DONE"
   ]
  },
  {
   "cell_type": "markdown",
   "metadata": {},
   "source": [
    "### Create your project logo-dark.svg\n",
    "\n",
    "This is the site logo for dark theme pages. "
   ]
  },
  {
   "cell_type": "code",
   "execution_count": null,
   "metadata": {
    "vscode": {
     "languageId": "shellscript"
    }
   },
   "outputs": [],
   "source": [
    "eval $(./vars.py)\n",
    "ansible-playbook -e @$VARS_PATH playbooks/create-file.yaml \\\n",
    "  -e FILE_PATH=\"{{ STATIC_PATH }}/svg/logo-dark.svg\" \\\n",
    "  -e FILE_COPY_FROM=$(pwd)/roles/site-file/templates/logo-dark.svg\n",
    "echo DONE"
   ]
  },
  {
   "cell_type": "markdown",
   "metadata": {},
   "source": [
    "### Create your project logo-light.svg\n",
    "\n",
    "This is the site logo for light theme pages. "
   ]
  },
  {
   "cell_type": "code",
   "execution_count": null,
   "metadata": {
    "vscode": {
     "languageId": "shellscript"
    }
   },
   "outputs": [],
   "source": [
    "eval $(./vars.py)\n",
    "ansible-playbook -e @$VARS_PATH playbooks/create-file.yaml \\\n",
    "  -e FILE_PATH=\"{{ STATIC_PATH }}/svg/logo-light.svg\" \\\n",
    "  -e FILE_COPY_FROM=$(pwd)/roles/site-file/templates/logo-light.svg\n",
    "echo DONE"
   ]
  },
  {
   "cell_type": "markdown",
   "metadata": {},
   "source": [
    "### Create your project generate.sh\n",
    "\n",
    "This is a shell script for first, indexing all the Java code in a project 3 times into the search engine, then generating additional Java code based on what it finds. \n",
    "The reason for indexing the data 3 times is to resolve foreign key relationships between two Java classes. \n",
    "- You index the first Java class, that relates to a second Java class. \n",
    "- Then you index the second Java class, and it can link itself correctly to the first Java class. \n",
    "- Then you index the first Java class again, and it can link itself correctly to the second Java class. "
   ]
  },
  {
   "cell_type": "code",
   "execution_count": null,
   "metadata": {
    "vscode": {
     "languageId": "shellscript"
    }
   },
   "outputs": [],
   "source": [
    "eval $(./vars.py)\n",
    "ansible-playbook -e @$VARS_PATH playbooks/create-file.yaml \\\n",
    "  -e FILE_PATH=\"{{ SITE_SRC }}/bin/generate.sh\" \\\n",
    "  -e FILE_TEMPLATE=$(pwd)/roles/site-file/templates/generate.sh\n",
    "echo DONE"
   ]
  },
  {
   "cell_type": "markdown",
   "metadata": {},
   "source": [
    "### Create your project generatenow.sh\n",
    "\n",
    "If you have already indexed your code in the search engine, you can save time regenerating all your Java classes with this shell script. \n",
    "This is a shell script expects that you have already run `generate.sh` or `index.sh`, both of which index all the Java code in a project 3 times into the search engine. "
   ]
  },
  {
   "cell_type": "code",
   "execution_count": null,
   "metadata": {
    "vscode": {
     "languageId": "shellscript"
    }
   },
   "outputs": [],
   "source": [
    "eval $(./vars.py)\n",
    "ansible-playbook -e @$VARS_PATH playbooks/create-file.yaml \\\n",
    "  -e FILE_PATH=\"{{ SITE_SRC }}/bin/generatenow.sh\" \\\n",
    "  -e FILE_TEMPLATE=$(pwd)/roles/site-file/templates/generatenow.sh\n",
    "echo DONE"
   ]
  },
  {
   "cell_type": "markdown",
   "metadata": {},
   "source": [
    "### Create your project watch.sh\n",
    "\n",
    "This is a shell script for first, indexing all the Java code in a project 3 times into the search engine, then watching for file system changes in the project directory. \n",
    "The reason for indexing the data 3 times is to resolve foreign key relationships between two Java classes. \n",
    "- You index the first Java class, that relates to a second Java class. \n",
    "- Then you index the second Java class, and it can link itself correctly to the first Java class. \n",
    "- Then you index the first Java class again, and it can link itself correctly to the second Java class. \n",
    "\n",
    "When a Java file is created or modified, the watch service recognizes a Java file changed, and it parses the Java file using an open source Java parser called QDox. The many details about the Java class, as well as Java methods, Java fields, and Java constructors are indexed individually into the search engine, so that code generation tools can query this data, and write code for you. "
   ]
  },
  {
   "cell_type": "code",
   "execution_count": null,
   "metadata": {
    "vscode": {
     "languageId": "shellscript"
    }
   },
   "outputs": [],
   "source": [
    "eval $(./vars.py)\n",
    "ansible-playbook -e @$VARS_PATH playbooks/create-file.yaml \\\n",
    "  -e FILE_PATH=\"{{ SITE_SRC }}/bin/watch.sh\" \\\n",
    "  -e FILE_TEMPLATE=$(pwd)/roles/site-file/templates/watch.sh\n",
    "echo DONE"
   ]
  },
  {
   "cell_type": "markdown",
   "metadata": {},
   "source": [
    "### Create your project watchnow.sh\n",
    "\n",
    "If you have already indexed your code in the search engine, you can save time watching your code for changes with this shell script. \n",
    "This is a shell script expects that you have already run `generate.sh` or `index.sh`, both of which index all the Java code in a project 3 times into the search engine. \n",
    "\n",
    "When a Java file is created or modified, the watch service recognizes a Java file changed, and it parses the Java file using an open source Java parser called QDox. The many details about the Java class, as well as Java methods, Java fields, and Java constructors are indexed individually into the search engine, so that code generation tools can query this data, and write code for you. "
   ]
  },
  {
   "cell_type": "code",
   "execution_count": null,
   "metadata": {
    "vscode": {
     "languageId": "shellscript"
    }
   },
   "outputs": [],
   "source": [
    "eval $(./vars.py)\n",
    "ansible-playbook -e @$VARS_PATH playbooks/create-file.yaml \\\n",
    "  -e FILE_PATH=\"{{ SITE_SRC }}/bin/watchnow.sh\" \\\n",
    "  -e FILE_TEMPLATE=$(pwd)/roles/site-file/templates/watchnow.sh\n",
    "echo DONE"
   ]
  },
  {
   "cell_type": "markdown",
   "metadata": {},
   "source": [
    "### Create your project index.sh\n",
    "\n",
    "This is a shell script for indexing all the Java code in a project 3 times into the search engine. \n",
    "The reason for indexing the data 3 times is to resolve foreign key relationships between two Java classes. \n",
    "- You index the first Java class, that relates to a second Java class. \n",
    "- Then you index the second Java class, and it can link itself correctly to the first Java class. \n",
    "- Then you index the first Java class again, and it can link itself correctly to the second Java class. "
   ]
  },
  {
   "cell_type": "code",
   "execution_count": null,
   "metadata": {
    "vscode": {
     "languageId": "shellscript"
    }
   },
   "outputs": [],
   "source": [
    "eval $(./vars.py)\n",
    "ansible-playbook -e @$VARS_PATH playbooks/create-file.yaml \\\n",
    "  -e FILE_PATH=\"{{ SITE_SRC }}/bin/index.sh\" \\\n",
    "  -e FILE_TEMPLATE=$(pwd)/roles/site-file/templates/index.sh\n",
    "echo DONE"
   ]
  },
  {
   "cell_type": "markdown",
   "metadata": {},
   "source": [
    "### Create your project indexnow.sh\n",
    "\n",
    "If you have already indexed your code in the search engine, you can save time re-indexing all your Java classes with this shell script. \n",
    "This is a shell script expects that you have already run `generate.sh` or `index.sh`, both of which index all the Java code in a project 3 times into the search engine. "
   ]
  },
  {
   "cell_type": "code",
   "execution_count": null,
   "metadata": {
    "vscode": {
     "languageId": "shellscript"
    }
   },
   "outputs": [],
   "source": [
    "eval $(./vars.py)\n",
    "ansible-playbook -e @$VARS_PATH playbooks/create-file.yaml \\\n",
    "  -e FILE_PATH=\"{{ SITE_SRC }}/bin/indexnow.sh\" \\\n",
    "  -e FILE_TEMPLATE=$(pwd)/roles/site-file/templates/indexnow.sh\n",
    "echo DONE"
   ]
  },
  {
   "cell_type": "markdown",
   "metadata": {},
   "source": [
    "### Create your project Containerfile\n",
    "\n",
    "For building the application into a container image to push to quay.io. "
   ]
  },
  {
   "cell_type": "code",
   "execution_count": null,
   "metadata": {
    "vscode": {
     "languageId": "shellscript"
    }
   },
   "outputs": [],
   "source": [
    "eval $(./vars.py)\n",
    "ansible-playbook -e @$VARS_PATH playbooks/create-file.yaml \\\n",
    "  -e FILE_PATH=\"{{ SITE_SRC }}/Containerfile\" \\\n",
    "  -e FILE_TEMPLATE=$(pwd)/roles/site-file/templates/Containerfile\n",
    "echo DONE"
   ]
  },
  {
   "cell_type": "markdown",
   "metadata": {},
   "source": [
    "### Create your project PageLayout.java Java class"
   ]
  },
  {
   "cell_type": "code",
   "execution_count": null,
   "metadata": {
    "vscode": {
     "languageId": "shellscript"
    }
   },
   "outputs": [],
   "source": [
    "eval $(./vars.py)\n",
    "ansible-playbook -e @$VARS_PATH playbooks/create-file.yaml \\\n",
    "  -e FILE_PATH=\"{{ SITE_SRC }}/src/main/java/{{ SITE_PAGE_LAYOUT_PACKAGE | replace('.', '/') }}/PageLayout.java\" \\\n",
    "  -e FILE_TEMPLATE=PageLayout.java\n",
    "echo DONE"
   ]
  },
  {
   "cell_type": "markdown",
   "metadata": {},
   "source": [
    "### Create your project HomePage.htm Jinja2 HTML template"
   ]
  },
  {
   "cell_type": "code",
   "execution_count": null,
   "metadata": {
    "vscode": {
     "languageId": "shellscript"
    }
   },
   "outputs": [],
   "source": [
    "eval $(./vars.py)\n",
    "ansible-playbook -e @$VARS_PATH playbooks/create-file.yaml \\\n",
    "  -e FILE_PATH=\"{{ TEMPLATE_PATH }}/en-us/HomePage.htm\" \\\n",
    "  -e FILE_TEMPLATE=HomePage.htm\n",
    "echo DONE"
   ]
  },
  {
   "cell_type": "markdown",
   "metadata": {},
   "source": []
  }
 ],
 "metadata": {
  "kernelspec": {
   "display_name": "Bash",
   "language": "bash",
   "name": "bash"
  },
  "language_info": {
   "codemirror_mode": "shell",
   "file_extension": ".sh",
   "mimetype": "text/x-sh",
   "name": "bash"
  }
 },
 "nbformat": 4,
 "nbformat_minor": 2
}
