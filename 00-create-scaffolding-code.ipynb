{
 "cells": [
  {
   "cell_type": "markdown",
   "metadata": {},
   "source": [
    "# Computate Smart Website Builder\n",
    "\n",
    "## About the open source GPL3 license and copyright for this product\n",
    "\n",
    "Copyright © 2024 Computate Limited Liability Company in Utah, USA\n",
    "\n",
    "This program is free software: you can redistribute it and/or modify\n",
    "it under the terms of the GNU General Public License as published by\n",
    "the Free Software Foundation, either version 3 of the License, or\n",
    "(at your option) any later version.\n",
    "\n",
    "This program is distributed in the hope that it will be useful,\n",
    "but WITHOUT ANY WARRANTY; without even the implied warranty of\n",
    "MERCHANTABILITY or FITNESS FOR A PARTICULAR PURPOSE.  See the\n",
    "GNU General Public License for more details.\n",
    "\n",
    "You should have received a copy of the GNU General Public License\n",
    "along with this program.  If not, see <https://www.gnu.org/licenses/>.\n",
    "\n",
    "ADDITIONAL TERMS\n",
    "\n",
    "As stated in section 7. c) and e) of the GPL3 license, \n",
    "\"you may supplement the terms of this License with terms,\" \n",
    "Computate has added the following additional terms to the license: \n",
    "\n",
    "  7 c) Prohibiting misrepresentation of the origin of that material, and\n",
    "    requiring that modified versions of such material be marked in\n",
    "    reasonable ways as different from the original version;\n",
    "\n",
    "  7 e) Declining to grant rights under trademark law for use of some\n",
    "    trade names, trademarks, or service marks;\n",
    "\n",
    "Please do not redistribute this course until you have built your own platform with these tools, \n",
    "separate from the computate.org platform, and reconfigure your fork of this repo to deploy \n",
    "your own platform instead of the computate.org platform. \n",
    "\n",
    "QUESTIONS\n",
    "\n",
    "For questions about this open source license, please contact our public mailing list at computate@group.computate.org\n"
   ]
  },
  {
   "cell_type": "markdown",
   "metadata": {},
   "source": [
    "# Create your project"
   ]
  },
  {
   "cell_type": "markdown",
   "metadata": {},
   "source": [
    "## Update your variables"
   ]
  },
  {
   "cell_type": "markdown",
   "metadata": {},
   "source": [
    "Take a look at the vars you are using to create your project. Customize the vars to match the project you would like to build. "
   ]
  },
  {
   "cell_type": "code",
   "execution_count": null,
   "metadata": {
    "vscode": {
     "languageId": "shellscript"
    }
   },
   "outputs": [],
   "source": [
    "ls -l vars.yaml\n",
    "./vars.py\n",
    "echo DONE"
   ]
  },
  {
   "cell_type": "markdown",
   "metadata": {},
   "source": [
    "You can replace the default vars with your own vars with a symbolic link from your project to the computate-smart-laptop-challenge so that these Jupyter Notebooks work with your vars in a separate project. \n",
    "\n",
    "This should already be done from an earlier step in the course. \n",
    "\n",
    "```bash\n",
    "ln -s ../my-project/vars.yaml\n",
    "```"
   ]
  },
  {
   "cell_type": "markdown",
   "metadata": {},
   "source": [
    "## Create your project files"
   ]
  },
  {
   "cell_type": "markdown",
   "metadata": {},
   "source": [
    "### Create your project .gitignore"
   ]
  },
  {
   "cell_type": "code",
   "execution_count": null,
   "metadata": {
    "vscode": {
     "languageId": "shellscript"
    }
   },
   "outputs": [],
   "source": [
    "eval $(./vars.py)\n",
    "ansible-playbook -e @$VARS_PATH playbooks/create-file.yaml \\\n",
    "  -e FILE_PATH=\"{{ SITE_SRC }}/.gitignore\" \\\n",
    "  -e FILE_COPY_FROM=$(pwd)/roles/site-file/templates/gitignore\n",
    "echo DONE"
   ]
  },
  {
   "cell_type": "markdown",
   "metadata": {},
   "source": [
    "### Create your project pom.xml"
   ]
  },
  {
   "cell_type": "code",
   "execution_count": null,
   "metadata": {
    "vscode": {
     "languageId": "shellscript"
    }
   },
   "outputs": [],
   "source": [
    "eval $(./vars.py)\n",
    "ansible-playbook -e @$VARS_PATH playbooks/create-file.yaml \\\n",
    "  -e FILE_PATH=\"$SITE_SRC/pom.xml\" \\\n",
    "  -e FILE_TEMPLATE=pom.xml\n",
    "echo DONE"
   ]
  },
  {
   "cell_type": "markdown",
   "metadata": {},
   "source": [
    "### Create your project ConfigKeys.java Java Class"
   ]
  },
  {
   "cell_type": "code",
   "execution_count": null,
   "metadata": {
    "vscode": {
     "languageId": "shellscript"
    }
   },
   "outputs": [],
   "source": [
    "eval $(./vars.py)\n",
    "ansible-playbook -e @$VARS_PATH playbooks/create-file.yaml \\\n",
    "  -e FILE_PATH=\"{{ SITE_SRC }}/src/main/java/{{ SITE_CONFIG_KEYS_PACKAGE | replace('.', '/') }}/ConfigKeys.java\" \\\n",
    "  -e FILE_TEMPLATE=ConfigKeys.java\n",
    "echo DONE"
   ]
  },
  {
   "cell_type": "markdown",
   "metadata": {},
   "source": [
    "### Create your project SiteRequest.java Java Class"
   ]
  },
  {
   "cell_type": "code",
   "execution_count": null,
   "metadata": {
    "vscode": {
     "languageId": "shellscript"
    }
   },
   "outputs": [],
   "source": [
    "eval $(./vars.py)\n",
    "ansible-playbook -e @$VARS_PATH playbooks/create-file.yaml \\\n",
    "  -e FILE_PATH=\"{{ SITE_SRC }}/src/main/java/{{ SITE_REQUEST_PACKAGE | replace('.', '/') }}/SiteRequest.java\" \\\n",
    "  -e FILE_TEMPLATE=SiteRequest.java\n",
    "echo DONE"
   ]
  },
  {
   "cell_type": "markdown",
   "metadata": {},
   "source": [
    "### Create your project BaseResult.java Java class"
   ]
  },
  {
   "cell_type": "code",
   "execution_count": null,
   "metadata": {
    "vscode": {
     "languageId": "shellscript"
    }
   },
   "outputs": [],
   "source": [
    "eval $(./vars.py)\n",
    "ansible-playbook -e @$VARS_PATH playbooks/create-file.yaml \\\n",
    "  -e FILE_PATH=\"{{ SITE_SRC }}/src/main/java/{{ SITE_BASE_RESULT_PACKAGE | replace('.', '/') }}/BaseResult.java\" \\\n",
    "  -e FILE_TEMPLATE=BaseResult.java\n",
    "echo DONE"
   ]
  },
  {
   "cell_type": "markdown",
   "metadata": {},
   "source": [
    "### Create your project BaseModel.java Java Class"
   ]
  },
  {
   "cell_type": "code",
   "execution_count": null,
   "metadata": {
    "vscode": {
     "languageId": "shellscript"
    }
   },
   "outputs": [],
   "source": [
    "eval $(./vars.py)\n",
    "ansible-playbook -e @$VARS_PATH playbooks/create-file.yaml \\\n",
    "  -e FILE_PATH=\"{{ SITE_SRC }}/src/main/java/{{ SITE_BASE_MODEL_PACKAGE | replace('.', '/') }}/BaseModel.java\" \\\n",
    "  -e FILE_TEMPLATE=BaseModel.java\n",
    "echo DONE"
   ]
  },
  {
   "cell_type": "markdown",
   "metadata": {},
   "source": [
    "### Create your project SiteUser.java Java Class"
   ]
  },
  {
   "cell_type": "code",
   "execution_count": null,
   "metadata": {
    "vscode": {
     "languageId": "shellscript"
    }
   },
   "outputs": [],
   "source": [
    "eval $(./vars.py)\n",
    "ansible-playbook -e @$VARS_PATH playbooks/create-file.yaml \\\n",
    "  -e FILE_PATH=\"{{ SITE_SRC }}/src/main/java/{{ SITE_USER_PACKAGE | replace('.', '/') }}/SiteUser.java\" \\\n",
    "  -e FILE_TEMPLATE=SiteUser.java\n",
    "echo DONE"
   ]
  },
  {
   "cell_type": "markdown",
   "metadata": {},
   "source": [
    "### Create your project package-info.java @ModuleGen Package"
   ]
  },
  {
   "cell_type": "code",
   "execution_count": null,
   "metadata": {
    "vscode": {
     "languageId": "shellscript"
    }
   },
   "outputs": [],
   "source": [
    "eval $(./vars.py)\n",
    "ansible-playbook -e @$VARS_PATH playbooks/create-file.yaml \\\n",
    "  -e FILE_PATH=\"{{ SITE_SRC }}/src/main/java/{{ SITE_JAVA_PACKAGE | replace('.', '/') }}/package-info.java\" \\\n",
    "  -e FILE_TEMPLATE=package-info.java\n",
    "echo DONE"
   ]
  },
  {
   "cell_type": "markdown",
   "metadata": {},
   "source": [
    "### Create your project .vscode/launch.json"
   ]
  },
  {
   "cell_type": "code",
   "execution_count": null,
   "metadata": {
    "vscode": {
     "languageId": "shellscript"
    }
   },
   "outputs": [],
   "source": [
    "eval $(./vars.py)\n",
    "ansible-playbook -e @$VARS_PATH playbooks/create-file.yaml \\\n",
    "  -e FILE_PATH=\"/opt/app-root/src/.vscode/launch.json\" \\\n",
    "  -e FILE_TEMPLATE=launch.json\n",
    "echo DONE"
   ]
  },
  {
   "cell_type": "markdown",
   "metadata": {},
   "source": [
    "### Create your project site.css"
   ]
  },
  {
   "cell_type": "code",
   "execution_count": null,
   "metadata": {
    "vscode": {
     "languageId": "shellscript"
    }
   },
   "outputs": [],
   "source": [
    "eval $(./vars.py)\n",
    "ansible-playbook -e @$VARS_PATH playbooks/create-file.yaml \\\n",
    "  -e FILE_PATH=\"{{ STATIC_PATH }}/css/site.css\" \\\n",
    "  -e FILE_TEMPLATE=$(pwd)/roles/site-file/templates/site.css\n",
    "echo DONE"
   ]
  },
  {
   "cell_type": "markdown",
   "metadata": {},
   "source": [
    "### Create your project site.js"
   ]
  },
  {
   "cell_type": "code",
   "execution_count": null,
   "metadata": {
    "vscode": {
     "languageId": "shellscript"
    }
   },
   "outputs": [],
   "source": [
    "eval $(./vars.py)\n",
    "ansible-playbook -e @$VARS_PATH playbooks/create-file.yaml \\\n",
    "  -e FILE_PATH=\"{{ STATIC_PATH }}/js/site.js\" \\\n",
    "  -e FILE_COPY_FROM=$(pwd)/roles/site-file/templates/site.js\n",
    "echo DONE"
   ]
  },
  {
   "cell_type": "markdown",
   "metadata": {},
   "source": [
    "### Create your project siteModule.js"
   ]
  },
  {
   "cell_type": "code",
   "execution_count": null,
   "metadata": {
    "vscode": {
     "languageId": "shellscript"
    }
   },
   "outputs": [],
   "source": [
    "eval $(./vars.py)\n",
    "ansible-playbook -e @$VARS_PATH playbooks/create-file.yaml \\\n",
    "  -e FILE_PATH=\"{{ STATIC_PATH }}/js/siteModule.js\" \\\n",
    "  -e FILE_TEMPLATE=$(pwd)/roles/site-file/templates/siteModule.js\n",
    "echo DONE"
   ]
  },
  {
   "cell_type": "markdown",
   "metadata": {},
   "source": [
    "### Create your project leaflet.contextmenu.css"
   ]
  },
  {
   "cell_type": "code",
   "execution_count": null,
   "metadata": {
    "vscode": {
     "languageId": "shellscript"
    }
   },
   "outputs": [],
   "source": [
    "eval $(./vars.py)\n",
    "ansible-playbook -e @$VARS_PATH playbooks/create-file.yaml \\\n",
    "  -e FILE_PATH=\"{{ STATIC_PATH }}/css/leaflet.contextmenu.css\" \\\n",
    "  -e FILE_COPY_FROM=$(pwd)/roles/site-file/templates/leaflet.contextmenu.css\n",
    "echo DONE"
   ]
  },
  {
   "cell_type": "markdown",
   "metadata": {},
   "source": [
    "### Create your project leaflet.contextmenu.js"
   ]
  },
  {
   "cell_type": "code",
   "execution_count": null,
   "metadata": {
    "vscode": {
     "languageId": "shellscript"
    }
   },
   "outputs": [],
   "source": [
    "eval $(./vars.py)\n",
    "ansible-playbook -e @$VARS_PATH playbooks/create-file.yaml \\\n",
    "  -e FILE_PATH=\"{{ STATIC_PATH }}/js/leaflet.contextmenu.js\" \\\n",
    "  -e FILE_COPY_FROM=$(pwd)/roles/site-file/templates/leaflet.contextmenu.js\n",
    "echo DONE"
   ]
  },
  {
   "cell_type": "markdown",
   "metadata": {},
   "source": [
    "### Create your project sockjs.js"
   ]
  },
  {
   "cell_type": "code",
   "execution_count": null,
   "metadata": {
    "vscode": {
     "languageId": "shellscript"
    }
   },
   "outputs": [],
   "source": [
    "eval $(./vars.py)\n",
    "ansible-playbook -e @$VARS_PATH playbooks/create-file.yaml \\\n",
    "  -e FILE_PATH=\"{{ STATIC_PATH }}/js/sockjs.js\" \\\n",
    "  -e FILE_COPY_FROM=$(pwd)/roles/site-file/templates/sockjs.js\n",
    "echo DONE"
   ]
  },
  {
   "cell_type": "markdown",
   "metadata": {},
   "source": [
    "### Create your project sockjs-map.json"
   ]
  },
  {
   "cell_type": "code",
   "execution_count": null,
   "metadata": {
    "vscode": {
     "languageId": "shellscript"
    }
   },
   "outputs": [],
   "source": [
    "eval $(./vars.py)\n",
    "ansible-playbook -e @$VARS_PATH playbooks/create-file.yaml \\\n",
    "  -e FILE_PATH=\"{{ STATIC_PATH }}/js/sockjs-map.json\" \\\n",
    "  -e FILE_COPY_FROM=$(pwd)/roles/site-file/templates/sockjs-map.json\n",
    "echo DONE"
   ]
  },
  {
   "cell_type": "markdown",
   "metadata": {},
   "source": [
    "### Create your project plotly-2.9.0.min.js"
   ]
  },
  {
   "cell_type": "code",
   "execution_count": null,
   "metadata": {
    "vscode": {
     "languageId": "shellscript"
    }
   },
   "outputs": [],
   "source": [
    "eval $(./vars.py)\n",
    "ansible-playbook -e @$VARS_PATH playbooks/create-file.yaml \\\n",
    "  -e FILE_PATH=\"{{ STATIC_PATH }}/js/plotly-2.9.0.min.js\" \\\n",
    "  -e FILE_COPY_FROM=$(pwd)/roles/site-file/templates/plotly-2.9.0.min.js\n",
    "echo DONE"
   ]
  },
  {
   "cell_type": "markdown",
   "metadata": {},
   "source": [
    "### Create your project vertx-eventbus.js"
   ]
  },
  {
   "cell_type": "code",
   "execution_count": null,
   "metadata": {
    "vscode": {
     "languageId": "shellscript"
    }
   },
   "outputs": [],
   "source": [
    "eval $(./vars.py)\n",
    "ansible-playbook -e @$VARS_PATH playbooks/create-file.yaml \\\n",
    "  -e FILE_PATH=\"{{ STATIC_PATH }}/js/vertx-eventbus.js\" \\\n",
    "  -e FILE_COPY_FROM=$(pwd)/roles/site-file/templates/vertx-eventbus.js\n",
    "echo DONE"
   ]
  },
  {
   "cell_type": "markdown",
   "metadata": {},
   "source": [
    "### Create your project computate-keys.svg"
   ]
  },
  {
   "cell_type": "code",
   "execution_count": null,
   "metadata": {
    "vscode": {
     "languageId": "shellscript"
    }
   },
   "outputs": [],
   "source": [
    "eval $(./vars.py)\n",
    "ansible-playbook -e @$VARS_PATH playbooks/create-file.yaml \\\n",
    "  -e FILE_PATH=\"{{ STATIC_PATH }}/svg/computate-keys.svg\" \\\n",
    "  -e FILE_COPY_FROM=$(pwd)/roles/site-file/templates/computate-keys.svg\n",
    "echo DONE"
   ]
  },
  {
   "cell_type": "markdown",
   "metadata": {},
   "source": [
    "### Create your project openshift-dedicated-google-cloud.png"
   ]
  },
  {
   "cell_type": "code",
   "execution_count": null,
   "metadata": {
    "vscode": {
     "languageId": "shellscript"
    }
   },
   "outputs": [],
   "source": [
    "eval $(./vars.py)\n",
    "ansible-playbook -e @$VARS_PATH playbooks/create-file.yaml \\\n",
    "  -e FILE_PATH=\"{{ STATIC_PATH }}/png/openshift-dedicated-google-cloud.png\" \\\n",
    "  -e FILE_COPY_FROM=$(pwd)/roles/site-file/templates/openshift-dedicated-google-cloud.png\n",
    "echo DONE"
   ]
  },
  {
   "cell_type": "markdown",
   "metadata": {},
   "source": [
    "### Create your project generate.sh"
   ]
  },
  {
   "cell_type": "code",
   "execution_count": null,
   "metadata": {
    "vscode": {
     "languageId": "shellscript"
    }
   },
   "outputs": [],
   "source": [
    "eval $(./vars.py)\n",
    "ansible-playbook -e @$VARS_PATH playbooks/create-file.yaml \\\n",
    "  -e FILE_PATH=\"{{ SITE_SRC }}/bin/generate.sh\" \\\n",
    "  -e FILE_TEMPLATE=$(pwd)/roles/site-file/templates/generate.sh\n",
    "echo DONE"
   ]
  },
  {
   "cell_type": "markdown",
   "metadata": {},
   "source": [
    "### Create your project generatenow.sh"
   ]
  },
  {
   "cell_type": "code",
   "execution_count": null,
   "metadata": {
    "vscode": {
     "languageId": "shellscript"
    }
   },
   "outputs": [],
   "source": [
    "eval $(./vars.py)\n",
    "ansible-playbook -e @$VARS_PATH playbooks/create-file.yaml \\\n",
    "  -e FILE_PATH=\"{{ SITE_SRC }}/bin/generatenow.sh\" \\\n",
    "  -e FILE_TEMPLATE=$(pwd)/roles/site-file/templates/generatenow.sh\n",
    "echo DONE"
   ]
  },
  {
   "cell_type": "markdown",
   "metadata": {},
   "source": [
    "### Create your project watch.sh"
   ]
  },
  {
   "cell_type": "code",
   "execution_count": null,
   "metadata": {
    "vscode": {
     "languageId": "shellscript"
    }
   },
   "outputs": [],
   "source": [
    "eval $(./vars.py)\n",
    "ansible-playbook -e @$VARS_PATH playbooks/create-file.yaml \\\n",
    "  -e FILE_PATH=\"{{ SITE_SRC }}/bin/watch.sh\" \\\n",
    "  -e FILE_TEMPLATE=$(pwd)/roles/site-file/templates/watch.sh\n",
    "echo DONE"
   ]
  },
  {
   "cell_type": "markdown",
   "metadata": {},
   "source": [
    "### Create your project watchnow.sh"
   ]
  },
  {
   "cell_type": "code",
   "execution_count": null,
   "metadata": {
    "vscode": {
     "languageId": "shellscript"
    }
   },
   "outputs": [],
   "source": [
    "eval $(./vars.py)\n",
    "ansible-playbook -e @$VARS_PATH playbooks/create-file.yaml \\\n",
    "  -e FILE_PATH=\"{{ SITE_SRC }}/bin/watchnow.sh\" \\\n",
    "  -e FILE_TEMPLATE=$(pwd)/roles/site-file/templates/watchnow.sh\n",
    "echo DONE"
   ]
  },
  {
   "cell_type": "markdown",
   "metadata": {},
   "source": [
    "### Create your project index.sh"
   ]
  },
  {
   "cell_type": "code",
   "execution_count": null,
   "metadata": {
    "vscode": {
     "languageId": "shellscript"
    }
   },
   "outputs": [],
   "source": [
    "eval $(./vars.py)\n",
    "ansible-playbook -e @$VARS_PATH playbooks/create-file.yaml \\\n",
    "  -e FILE_PATH=\"{{ SITE_SRC }}/bin/index.sh\" \\\n",
    "  -e FILE_TEMPLATE=$(pwd)/roles/site-file/templates/index.sh\n",
    "echo DONE"
   ]
  },
  {
   "cell_type": "markdown",
   "metadata": {},
   "source": [
    "### Create your project indexnow.sh"
   ]
  },
  {
   "cell_type": "code",
   "execution_count": null,
   "metadata": {
    "vscode": {
     "languageId": "shellscript"
    }
   },
   "outputs": [],
   "source": [
    "eval $(./vars.py)\n",
    "ansible-playbook -e @$VARS_PATH playbooks/create-file.yaml \\\n",
    "  -e FILE_PATH=\"{{ SITE_SRC }}/bin/indexnow.sh\" \\\n",
    "  -e FILE_TEMPLATE=$(pwd)/roles/site-file/templates/indexnow.sh\n",
    "echo DONE"
   ]
  },
  {
   "cell_type": "markdown",
   "metadata": {},
   "source": [
    "### Create your project Containerfile"
   ]
  },
  {
   "cell_type": "code",
   "execution_count": null,
   "metadata": {
    "vscode": {
     "languageId": "shellscript"
    }
   },
   "outputs": [],
   "source": [
    "eval $(./vars.py)\n",
    "ansible-playbook -e @$VARS_PATH playbooks/create-file.yaml \\\n",
    "  -e FILE_PATH=\"{{ SITE_SRC }}/Containerfile\" \\\n",
    "  -e FILE_TEMPLATE=$(pwd)/roles/site-file/templates/Containerfile\n",
    "echo DONE"
   ]
  },
  {
   "cell_type": "markdown",
   "metadata": {},
   "source": [
    "### Create your project WorkerVerticle.java Vert.x Verticle"
   ]
  },
  {
   "cell_type": "code",
   "execution_count": null,
   "metadata": {
    "vscode": {
     "languageId": "shellscript"
    }
   },
   "outputs": [],
   "source": [
    "eval $(./vars.py)\n",
    "ansible-playbook -e @$VARS_PATH playbooks/create-file.yaml \\\n",
    "  -e FILE_PATH=\"{{ SITE_SRC }}/src/main/java/{{ SITE_MAIN_VERTICLE_PACKAGE | replace('.', '/') }}/WorkerVerticle.java\" \\\n",
    "  -e FILE_TEMPLATE=WorkerVerticle.java\n",
    "echo DONE"
   ]
  },
  {
   "cell_type": "markdown",
   "metadata": {},
   "source": [
    "### Create your project MainVerticle.java Vert.x Verticle"
   ]
  },
  {
   "cell_type": "code",
   "execution_count": null,
   "metadata": {
    "vscode": {
     "languageId": "shellscript"
    }
   },
   "outputs": [],
   "source": [
    "eval $(./vars.py)\n",
    "ansible-playbook -e @$VARS_PATH playbooks/create-file.yaml \\\n",
    "  -e FILE_PATH=\"{{ SITE_SRC }}/src/main/java/{{ SITE_MAIN_VERTICLE_PACKAGE | replace('.', '/') }}/MainVerticle.java\" \\\n",
    "  -e FILE_TEMPLATE=MainVerticle.java\n",
    "echo DONE"
   ]
  },
  {
   "cell_type": "markdown",
   "metadata": {},
   "source": [
    "### Create your project PageLayout.htm Jinja2 HTML template"
   ]
  },
  {
   "cell_type": "code",
   "execution_count": null,
   "metadata": {
    "vscode": {
     "languageId": "shellscript"
    }
   },
   "outputs": [],
   "source": [
    "eval $(./vars.py)\n",
    "ansible-playbook -e @$VARS_PATH playbooks/create-file.yaml \\\n",
    "  -e FILE_PATH=\"{{ SITE_SRC }}/src/main/resources/templates/en-us/PageLayout.htm\" \\\n",
    "  -e FILE_TEMPLATE=PageLayout.htm\n",
    "echo DONE"
   ]
  },
  {
   "cell_type": "markdown",
   "metadata": {},
   "source": [
    "### Create your project PageLayout.java Java class"
   ]
  },
  {
   "cell_type": "code",
   "execution_count": null,
   "metadata": {
    "vscode": {
     "languageId": "shellscript"
    }
   },
   "outputs": [],
   "source": [
    "eval $(./vars.py)\n",
    "ansible-playbook -e @$VARS_PATH playbooks/create-file.yaml \\\n",
    "  -e FILE_PATH=\"{{ SITE_SRC }}/src/main/java/{{ SITE_PAGE_LAYOUT_PACKAGE | replace('.', '/') }}/PageLayout.java\" \\\n",
    "  -e FILE_TEMPLATE=PageLayout.java\n",
    "echo DONE"
   ]
  },
  {
   "cell_type": "markdown",
   "metadata": {},
   "source": [
    "### Create your project HomePage.htm Jinja2 HTML template"
   ]
  },
  {
   "cell_type": "code",
   "execution_count": null,
   "metadata": {
    "vscode": {
     "languageId": "shellscript"
    }
   },
   "outputs": [],
   "source": [
    "eval $(./vars.py)\n",
    "ansible-playbook -e @$VARS_PATH playbooks/create-file.yaml \\\n",
    "  -e FILE_PATH=\"{{ SITE_SRC }}/src/main/resources/templates/en-us/HomePage.htm\" \\\n",
    "  -e FILE_TEMPLATE=HomePage.htm\n",
    "echo DONE"
   ]
  },
  {
   "cell_type": "markdown",
   "metadata": {},
   "source": [
    "### Create your project SitePage.java Java class"
   ]
  },
  {
   "cell_type": "code",
   "execution_count": null,
   "metadata": {
    "vscode": {
     "languageId": "shellscript"
    }
   },
   "outputs": [],
   "source": [
    "eval $(./vars.py)\n",
    "ansible-playbook -e @$VARS_PATH playbooks/create-file.yaml \\\n",
    "  -e FILE_PATH=\"{{ SITE_SRC }}/src/main/java/{{ SITE_PAGE_LAYOUT_PACKAGE | replace('.', '/') }}/SitePage.java\" \\\n",
    "  -e FILE_TEMPLATE=SitePage.java\n",
    "echo DONE"
   ]
  },
  {
   "cell_type": "markdown",
   "metadata": {},
   "source": []
  }
 ],
 "metadata": {
  "kernelspec": {
   "display_name": "Bash",
   "language": "bash",
   "name": "bash"
  },
  "language_info": {
   "codemirror_mode": "shell",
   "file_extension": ".sh",
   "mimetype": "text/x-sh",
   "name": "bash"
  }
 },
 "nbformat": 4,
 "nbformat_minor": 2
}
