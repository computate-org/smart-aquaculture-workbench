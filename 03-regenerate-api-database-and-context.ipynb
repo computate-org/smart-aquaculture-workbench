{
 "cells": [
  {
   "cell_type": "markdown",
   "metadata": {},
   "source": [
    "# Computate Smart Website Builder\n",
    "\n",
    "## About the open source GPL3 license and copyright for this product\n",
    "\n",
    "Copyright © 2025 Computate Limited Liability Company in Utah, USA\n",
    "\n",
    "This program is free software: you can redistribute it and/or modify\n",
    "it under the terms of the GNU General Public License as published by\n",
    "the Free Software Foundation, either version 3 of the License, or\n",
    "(at your option) any later version.\n",
    "\n",
    "This program is distributed in the hope that it will be useful,\n",
    "but WITHOUT ANY WARRANTY; without even the implied warranty of\n",
    "MERCHANTABILITY or FITNESS FOR A PARTICULAR PURPOSE.  See the\n",
    "GNU General Public License for more details.\n",
    "\n",
    "You should have received a copy of the GNU General Public License\n",
    "along with this program.  If not, see <https://www.gnu.org/licenses/>.\n",
    "\n",
    "ADDITIONAL TERMS\n",
    "\n",
    "As stated in section 7. c) and e) of the GPL3 license, \n",
    "\"you may supplement the terms of this License with terms,\" \n",
    "Computate has added the following additional terms to the license: \n",
    "\n",
    "  7 c) Prohibiting misrepresentation of the origin of that material, and\n",
    "    requiring that modified versions of such material be marked in\n",
    "    reasonable ways as different from the original version;\n",
    "\n",
    "  7 e) Declining to grant rights under trademark law for use of some\n",
    "    trade names, trademarks, or service marks;\n",
    "\n",
    "Please do not redistribute this course until you have built your own platform with these tools, \n",
    "separate from the computate.org platform, and reconfigure your fork of this repo to deploy \n",
    "your own platform instead of the computate.org platform. \n",
    "\n",
    "QUESTIONS\n",
    "\n",
    "For questions about this open source license, please contact our public mailing list at computate@group.computate.org\n"
   ]
  },
  {
   "cell_type": "markdown",
   "metadata": {},
   "source": [
    "# Switch to the Jupyter Kernel — bash\n",
    "\n",
    "When opening this Jupyter Notebook in VSCode, you will need to switch to the Bash Jupyter Kernel. \n",
    "\n",
    "- In the top right corner of your VSCode workbench, click `Select Kernel`. \n",
    "- Click `Jupyter Kernel...`\n",
    "- Click `Bash /opt/app-root/bin/python`\n",
    "- It should now say `Bash` in the top right corner of your VSCode workbench. "
   ]
  },
  {
   "cell_type": "markdown",
   "metadata": {},
   "source": [
    "### Compile your site\n",
    "\n",
    "Next step is to do a `mvn clean install` command on your new project, which will tell the Vert.x Service Proxy to regenerate the required Java API code. \n",
    "\n",
    "Run this code in a new terminal. "
   ]
  },
  {
   "cell_type": "raw",
   "metadata": {
    "vscode": {
     "languageId": "raw"
    }
   },
   "source": [
    "(cd $SITE_SRC && mvn clean install -Dorg.slf4j.simpleLogger.defaultLogLevel=error)"
   ]
  },
  {
   "cell_type": "markdown",
   "metadata": {},
   "source": [
    "### Refresh the Maven projects in VSCode\n",
    "\n",
    "Sometimes VSCode gets confused after running a `mvn clean install`, so you can update the Maven projects in VSCode. \n",
    "\n",
    "- Start by clicking the refresh page button on your browser, because the VSCode workbench sometimes needs a refresh after loading new Java projects into the workbench. \n",
    "- Open the top file explorer menu on the left of the workbench. \n",
    "- Open the `MAVEN` at the very bottom of the file menu. \n",
    "- Click on the `Reload All Maven Projects` button that looks like arrows in a circle. \n",
    "- Wait for the red errors to disappear from the Java classes. At the very bottom of the workbench it will have a status message that will say `Java: Building' for each of the java projects. Eventually it will say `Java: Ready`. "
   ]
  },
  {
   "cell_type": "markdown",
   "metadata": {},
   "source": [
    "### Regenerate the API\n",
    "\n",
    "The next step will regenerate several things: \n",
    "\n",
    "- The OpenAPI spec\n",
    "- The PostgreSQL database schema\n",
    "- Set up the PostgreSQL schema in the database\n",
    "- Generate the FIWARE context\n",
    "\n",
    "To regenerate these items: \n",
    "\n",
    "- Open the `Run and Debug` menu on the left of the workbench, it's probably the 4th button down with a little bug and a triangle. \n",
    "- Open the dropdown menu, and select `rebuild smart-aquaculture API`\n",
    "- Click the green triangle button to regenerate the API. \n",
    "- If the run fails, click the `Fix...` button, and then click `Update project configuration`, then try running `rebuild API` again. \n",
    "\n",
    "### Run your new application, and view it in the browser\n",
    "\n",
    "Now it's time for the exciting part, you will build and run your new application. "
   ]
  },
  {
   "cell_type": "markdown",
   "metadata": {},
   "source": []
  }
 ],
 "metadata": {
  "kernelspec": {
   "display_name": "Bash",
   "language": "bash",
   "name": "bash"
  },
  "language_info": {
   "codemirror_mode": "shell",
   "file_extension": ".sh",
   "mimetype": "text/x-sh",
   "name": "bash"
  }
 },
 "nbformat": 4,
 "nbformat_minor": 2
}
